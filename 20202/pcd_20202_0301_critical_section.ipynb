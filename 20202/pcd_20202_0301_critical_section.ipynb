{
  "nbformat": 4,
  "nbformat_minor": 0,
  "metadata": {
    "colab": {
      "name": "pcd 20202 0301 critical section.ipynb",
      "provenance": [],
      "authorship_tag": "ABX9TyMLRGA2iEffdn15gRi+oki1",
      "include_colab_link": true
    },
    "kernelspec": {
      "name": "python3",
      "display_name": "Python 3"
    }
  },
  "cells": [
    {
      "cell_type": "markdown",
      "metadata": {
        "id": "view-in-github",
        "colab_type": "text"
      },
      "source": [
        "<a href=\"https://colab.research.google.com/github/pcsilcan/pcd/blob/master/20202/pcd_20202_0301_critical_section.ipynb\" target=\"_parent\"><img src=\"https://colab.research.google.com/assets/colab-badge.svg\" alt=\"Open In Colab\"/></a>"
      ]
    },
    {
      "cell_type": "code",
      "metadata": {
        "id": "Gvz8-8cvY13F",
        "colab_type": "code",
        "colab": {}
      },
      "source": [
        "%%script bash\n",
        "apt install golang-go\n",
        "go version"
      ],
      "execution_count": null,
      "outputs": []
    },
    {
      "cell_type": "markdown",
      "metadata": {
        "id": "g8LkMU5acXIP",
        "colab_type": "text"
      },
      "source": [
        "# First Attempt"
      ]
    },
    {
      "cell_type": "code",
      "metadata": {
        "id": "IBRRgONeZKPi",
        "colab_type": "code",
        "colab": {
          "base_uri": "https://localhost:8080/",
          "height": 34
        },
        "outputId": "41e62346-557e-4d57-e35d-e577a6d32170"
      },
      "source": [
        "%%writefile critical1.go\n",
        "package main\n",
        "\n",
        "import (\n",
        "    \"fmt\"\n",
        "    \"math/rand\"\n",
        "    \"time\"\n",
        ")\n",
        "\n",
        "var turn = 1\n",
        "\n",
        "func P() {\n",
        "    for {\n",
        "        fmt.Println(\"P NCS 1\"); rp()\n",
        "        fmt.Println(\"P NCS 2\"); rp()\n",
        "        fmt.Println(\"P NCS 3\"); rp()\n",
        "\n",
        "        for turn != 1 {\n",
        "\n",
        "        }\n",
        "         \n",
        "        fmt.Println(\"P CRITICAL SECTION 1\"); rp()\n",
        "        fmt.Println(\"P CRITICAL SECTION 2\"); rp()\n",
        "        fmt.Println(\"P CRITICAL SECTION 3\"); rp()\n",
        "\n",
        "        turn = 2\n",
        "    }\n",
        "}\n",
        "\n",
        "func Q() {\n",
        "    for {\n",
        "        fmt.Println(\"\\tQ NCS 1\"); rp()\n",
        "        fmt.Println(\"\\tQ NCS 2\"); rp()\n",
        "        fmt.Println(\"\\tQ NCS 3\"); rp()\n",
        "\n",
        "        for turn != 2 {\n",
        "\n",
        "        }\n",
        "         \n",
        "        fmt.Println(\"\\tQ CRITICAL SECTION 1\"); rp()\n",
        "        fmt.Println(\"\\tQ CRITICAL SECTION 2\"); rp()\n",
        "        fmt.Println(\"\\tQ CRITICAL SECTION 3\"); rp()\n",
        "\n",
        "        turn = 1\n",
        "    }\n",
        "}\n",
        "\n",
        "func main() {\n",
        "    go P()\n",
        "    go Q()\n",
        "\n",
        "    time.Sleep(100*time.Millisecond)\n",
        "}\n",
        "\n",
        "func rp() {\n",
        "    dur := time.Duration(rand.Intn(10))\n",
        "    time.Sleep(dur*time.Millisecond)\n",
        "}"
      ],
      "execution_count": 15,
      "outputs": [
        {
          "output_type": "stream",
          "text": [
            "Overwriting critical1.go\n"
          ],
          "name": "stdout"
        }
      ]
    },
    {
      "cell_type": "code",
      "metadata": {
        "id": "gH0kP9yVaaG6",
        "colab_type": "code",
        "colab": {
          "base_uri": "https://localhost:8080/",
          "height": 622
        },
        "outputId": "c6451acb-6eff-4435-a186-e31f15bcdad9"
      },
      "source": [
        "!go run critical1.go"
      ],
      "execution_count": 16,
      "outputs": [
        {
          "output_type": "stream",
          "text": [
            "P NCS 1\n",
            "\tQ NCS 1\n",
            "P NCS 2\n",
            "\tQ NCS 2\n",
            "P NCS 3\n",
            "P CRITICAL SECTION 1\n",
            "\tQ NCS 3\n",
            "P CRITICAL SECTION 2\n",
            "P CRITICAL SECTION 3\n",
            "P NCS 1\n",
            "P NCS 2\n",
            "\tQ CRITICAL SECTION 1\n",
            "\tQ CRITICAL SECTION 2\n",
            "\tQ CRITICAL SECTION 3\n",
            "P NCS 3\n",
            "\tQ NCS 1\n",
            "P CRITICAL SECTION 1\n",
            "P CRITICAL SECTION 2\n",
            "\tQ NCS 2\n",
            "P CRITICAL SECTION 3\n",
            "\tQ NCS 3\n",
            "P NCS 1\n",
            "\tQ CRITICAL SECTION 1\n",
            "P NCS 2\n",
            "\tQ CRITICAL SECTION 2\n",
            "P NCS 3\n",
            "\tQ CRITICAL SECTION 3\n",
            "P CRITICAL SECTION 1\n",
            "\tQ NCS 1\n",
            "\tQ NCS 2\n",
            "\tQ NCS 3\n",
            "P CRITICAL SECTION 2\n",
            "P CRITICAL SECTION 3\n",
            "P NCS 1\n",
            "\tQ CRITICAL SECTION 1\n",
            "P NCS 2\n"
          ],
          "name": "stdout"
        }
      ]
    },
    {
      "cell_type": "markdown",
      "metadata": {
        "id": "FtaW6CjTca4D",
        "colab_type": "text"
      },
      "source": [
        "# Second attempt"
      ]
    },
    {
      "cell_type": "code",
      "metadata": {
        "id": "nocuFDUKac_B",
        "colab_type": "code",
        "colab": {
          "base_uri": "https://localhost:8080/",
          "height": 34
        },
        "outputId": "25596b69-f20e-451b-ed8a-c4ea8c79d4c0"
      },
      "source": [
        "%%writefile critical2.go\n",
        "package main\n",
        "\n",
        "import (\n",
        "    \"fmt\"\n",
        "    \"math/rand\"\n",
        "    \"time\"\n",
        ")\n",
        "\n",
        "var (\n",
        "    wantp = false\n",
        "    wantq = false\n",
        ")\n",
        "\n",
        "func P() {\n",
        "    for {\n",
        "        fmt.Println(\"P NCS 1\"); rp()\n",
        "        fmt.Println(\"P NCS 2\"); rp()\n",
        "        fmt.Println(\"P NCS 3\"); rp()\n",
        "\n",
        "        for wantq {\n",
        "\n",
        "        }\n",
        "        rp()\n",
        "        wantp = true\n",
        "         \n",
        "        fmt.Println(\"P CRITICAL SECTION 1\"); rp()\n",
        "        fmt.Println(\"P CRITICAL SECTION 2\"); rp()\n",
        "        fmt.Println(\"P CRITICAL SECTION 3\"); rp()\n",
        "\n",
        "        wantp = false\n",
        "    }\n",
        "}\n",
        "\n",
        "func Q() {\n",
        "    for {\n",
        "        fmt.Println(\"\\tQ NCS 1\"); rp()\n",
        "        fmt.Println(\"\\tQ NCS 2\"); rp()\n",
        "        fmt.Println(\"\\tQ NCS 3\"); rp()\n",
        "\n",
        "        for wantp {\n",
        "\n",
        "        }\n",
        "        rp()\n",
        "        wantq = true\n",
        "         \n",
        "        fmt.Println(\"\\tQ CRITICAL SECTION 1\"); rp()\n",
        "        fmt.Println(\"\\tQ CRITICAL SECTION 2\"); rp()\n",
        "        fmt.Println(\"\\tQ CRITICAL SECTION 3\"); rp()\n",
        "\n",
        "        wantq = false\n",
        "    }\n",
        "}\n",
        "\n",
        "func main() {\n",
        "    go P()\n",
        "    go Q()\n",
        "\n",
        "    time.Sleep(300*time.Millisecond)\n",
        "}\n",
        "\n",
        "func rp() {\n",
        "    dur := time.Duration(rand.Intn(10))\n",
        "    time.Sleep(dur*time.Millisecond)\n",
        "}"
      ],
      "execution_count": 27,
      "outputs": [
        {
          "output_type": "stream",
          "text": [
            "Overwriting critical2.go\n"
          ],
          "name": "stdout"
        }
      ]
    },
    {
      "cell_type": "code",
      "metadata": {
        "id": "pclrXa__cxyt",
        "colab_type": "code",
        "colab": {
          "base_uri": "https://localhost:8080/",
          "height": 1000
        },
        "outputId": "c51738d4-eaeb-4cc4-8235-4e8dbd2860b9"
      },
      "source": [
        "!go run critical2.go"
      ],
      "execution_count": 30,
      "outputs": [
        {
          "output_type": "stream",
          "text": [
            "P NCS 1\n",
            "\tQ NCS 1\n",
            "P NCS 2\n",
            "\tQ NCS 2\n",
            "P NCS 3\n",
            "\tQ NCS 3\n",
            "P CRITICAL SECTION 1\n",
            "P CRITICAL SECTION 2\n",
            "P CRITICAL SECTION 3\n",
            "P NCS 1\n",
            "P NCS 2\n",
            "P NCS 3\n",
            "\tQ CRITICAL SECTION 1\n",
            "\tQ CRITICAL SECTION 2\n",
            "\tQ CRITICAL SECTION 3\n",
            "\tQ NCS 1\n",
            "P CRITICAL SECTION 1\n",
            "\tQ NCS 2\n",
            "P CRITICAL SECTION 2\n",
            "\tQ NCS 3\n",
            "P CRITICAL SECTION 3\n",
            "P NCS 1\n",
            "\tQ CRITICAL SECTION 1\n",
            "P NCS 2\n",
            "\tQ CRITICAL SECTION 2\n",
            "\tQ CRITICAL SECTION 3\n",
            "P NCS 3\n",
            "\tQ NCS 1\n",
            "\tQ NCS 2\n",
            "P CRITICAL SECTION 1\n",
            "\tQ NCS 3\n",
            "P CRITICAL SECTION 2\n",
            "P CRITICAL SECTION 3\n",
            "P NCS 1\n",
            "\tQ CRITICAL SECTION 1\n",
            "P NCS 2\n",
            "P NCS 3\n",
            "\tQ CRITICAL SECTION 2\n",
            "\tQ CRITICAL SECTION 3\n",
            "\tQ NCS 1\n",
            "\tQ NCS 2\n",
            "P CRITICAL SECTION 1\n",
            "\tQ NCS 3\n",
            "P CRITICAL SECTION 2\n",
            "P CRITICAL SECTION 3\n",
            "P NCS 1\n",
            "P NCS 2\n",
            "P NCS 3\n",
            "\tQ CRITICAL SECTION 1\n",
            "\tQ CRITICAL SECTION 2\n",
            "\tQ CRITICAL SECTION 3\n",
            "\tQ NCS 1\n",
            "\tQ NCS 2\n",
            "\tQ NCS 3\n",
            "P CRITICAL SECTION 1\n",
            "P CRITICAL SECTION 2\n",
            "P CRITICAL SECTION 3\n",
            "P NCS 1\n",
            "\tQ CRITICAL SECTION 1\n",
            "P NCS 2\n",
            "\tQ CRITICAL SECTION 2\n",
            "\tQ CRITICAL SECTION 3\n",
            "P NCS 3\n",
            "\tQ NCS 1\n",
            "\tQ NCS 2\n",
            "P CRITICAL SECTION 1\n",
            "\tQ NCS 3\n",
            "P CRITICAL SECTION 2\n",
            "P CRITICAL SECTION 3\n",
            "P NCS 1\n",
            "P NCS 2\n",
            "\tQ CRITICAL SECTION 1\n",
            "\tQ CRITICAL SECTION 2\n",
            "\tQ CRITICAL SECTION 3\n",
            "P NCS 3\n",
            "\tQ NCS 1\n",
            "\tQ NCS 2\n",
            "P CRITICAL SECTION 1\n",
            "\tQ NCS 3\n",
            "P CRITICAL SECTION 2\n",
            "P CRITICAL SECTION 3\n",
            "P NCS 1\n",
            "P NCS 2\n",
            "\tQ CRITICAL SECTION 1\n",
            "P NCS 3\n",
            "\tQ CRITICAL SECTION 2\n",
            "\tQ CRITICAL SECTION 3\n"
          ],
          "name": "stdout"
        }
      ]
    },
    {
      "cell_type": "code",
      "metadata": {
        "id": "IXfxVV3pc2Fb",
        "colab_type": "code",
        "colab": {}
      },
      "source": [
        ""
      ],
      "execution_count": null,
      "outputs": []
    }
  ]
}