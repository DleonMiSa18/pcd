{
  "nbformat": 4,
  "nbformat_minor": 0,
  "metadata": {
    "colab": {
      "name": "pcd 20202 0401 promelin.ipynb",
      "provenance": [],
      "authorship_tag": "ABX9TyPjLnnvlYInT0qH6N+Hh1rW",
      "include_colab_link": true
    },
    "kernelspec": {
      "name": "python3",
      "display_name": "Python 3"
    }
  },
  "cells": [
    {
      "cell_type": "markdown",
      "metadata": {
        "id": "view-in-github",
        "colab_type": "text"
      },
      "source": [
        "<a href=\"https://colab.research.google.com/github/pcsilcan/pcd/blob/master/20202/pcd_20202_0401_promelin.ipynb\" target=\"_parent\"><img src=\"https://colab.research.google.com/assets/colab-badge.svg\" alt=\"Open In Colab\"/></a>"
      ]
    },
    {
      "cell_type": "code",
      "metadata": {
        "id": "zGxOnAHILhBP",
        "colab_type": "code",
        "colab": {
          "base_uri": "https://localhost:8080/",
          "height": 202
        },
        "outputId": "092816f4-9e14-4162-d3bc-f93ee5a60c96"
      },
      "source": [
        "%%script bash\n",
        "git clone https://github.com/nimble-code/Spin.git\n",
        "ls -l Spin\n",
        "# :( esto no funcionó no ejecute esto por ahora."
      ],
      "execution_count": 3,
      "outputs": [
        {
          "output_type": "stream",
          "text": [
            "total 36\n",
            "drwxr-xr-x 2 root root 4096 Sep 11 12:45 Bin\n",
            "drwxr-xr-x 2 root root 4096 Sep 11 12:45 Doc\n",
            "drwxr-xr-x 5 root root 4096 Sep 11 12:45 Examples\n",
            "-rw-r--r-- 1 root root 1669 Sep 11 12:45 LICENSE\n",
            "-rw-r--r-- 1 root root   79 Sep 11 12:45 makefile\n",
            "drwxr-xr-x 2 root root 4096 Sep 11 12:45 Man\n",
            "drwxr-xr-x 2 root root 4096 Sep 11 12:45 optional_gui\n",
            "-rw-r--r-- 1 root root 1522 Sep 11 12:45 README.md\n",
            "drwxr-xr-x 2 root root 4096 Sep 11 12:45 Src\n"
          ],
          "name": "stdout"
        },
        {
          "output_type": "stream",
          "text": [
            "fatal: destination path 'Spin' already exists and is not an empty directory.\n"
          ],
          "name": "stderr"
        }
      ]
    },
    {
      "cell_type": "code",
      "metadata": {
        "id": "YixZ0zkhNHu8",
        "colab_type": "code",
        "colab": {}
      },
      "source": [
        "!apt install spin"
      ],
      "execution_count": null,
      "outputs": []
    },
    {
      "cell_type": "code",
      "metadata": {
        "id": "NW1Z6BZWPR-s",
        "colab_type": "code",
        "colab": {}
      },
      "source": [
        "%%script bash\n",
        "#curl -o ps-programs.zip http://www.springer.com/cda/content/document/cda_downloaddocument/ps-programs.zip?SGWID=0-0-45-1050337-p173710973\n",
        "unzip ps-programs.zip"
      ],
      "execution_count": null,
      "outputs": []
    },
    {
      "cell_type": "code",
      "metadata": {
        "id": "1xTVY51VMzKK",
        "colab_type": "code",
        "colab": {
          "base_uri": "https://localhost:8080/",
          "height": 34
        },
        "outputId": "b6995543-a3b2-4457-c394-d25cde3a1d70"
      },
      "source": [
        "%%writefile hola.pml\n",
        "active[5] proctype P() {\n",
        "    printf(\"%d Hola mundo\\n\", _pid)\n",
        "}"
      ],
      "execution_count": 21,
      "outputs": [
        {
          "output_type": "stream",
          "text": [
            "Overwriting hola.pml\n"
          ],
          "name": "stdout"
        }
      ]
    },
    {
      "cell_type": "code",
      "metadata": {
        "id": "OAgeTdnlNohL",
        "colab_type": "code",
        "colab": {
          "base_uri": "https://localhost:8080/",
          "height": 118
        },
        "outputId": "893fcd4d-8c0e-4df7-ef6b-3aa3a171cdfd"
      },
      "source": [
        "!spin hola.pml"
      ],
      "execution_count": 22,
      "outputs": [
        {
          "output_type": "stream",
          "text": [
            "                  3 Hola mundo\n",
            "      0 Hola mundo\n",
            "              2 Hola mundo\n",
            "                      4 Hola mundo\n",
            "          1 Hola mundo\n",
            "5 processes created\n"
          ],
          "name": "stdout"
        }
      ]
    },
    {
      "cell_type": "code",
      "metadata": {
        "id": "eb0iGmFrOSg_",
        "colab_type": "code",
        "colab": {
          "base_uri": "https://localhost:8080/",
          "height": 34
        },
        "outputId": "c7ffce5c-e2d6-4d3f-8c0f-e60a355cce6f"
      },
      "source": [
        "%%writefile mtype.pml\n",
        "mtype = { red, green, yellow }\n",
        "\n",
        "mtype light = green\n",
        "\n",
        "active proctype P() {\n",
        "    byte i = 0;\n",
        "    do\n",
        "    :: i < 10 ->\n",
        "        i++\n",
        "        if\n",
        "        :: light == red -> light = green\n",
        "        :: light == green -> light = yellow\n",
        "        :: light == yellow -> light = red\n",
        "        fi\n",
        "        printf(\"%e\\n\", light)\n",
        "    :: else -> break\n",
        "    od\n",
        "}"
      ],
      "execution_count": 36,
      "outputs": [
        {
          "output_type": "stream",
          "text": [
            "Writing mtype.pml\n"
          ],
          "name": "stdout"
        }
      ]
    },
    {
      "cell_type": "code",
      "metadata": {
        "id": "hedcQWPFSITc",
        "colab_type": "code",
        "colab": {
          "base_uri": "https://localhost:8080/",
          "height": 202
        },
        "outputId": "42e8cf46-fc9c-4b05-970f-2e08513fbadf"
      },
      "source": [
        "!spin mtype.pml"
      ],
      "execution_count": 37,
      "outputs": [
        {
          "output_type": "stream",
          "text": [
            "      yellow\n",
            "      red\n",
            "      green\n",
            "      yellow\n",
            "      red\n",
            "      green\n",
            "      yellow\n",
            "      red\n",
            "      green\n",
            "      yellow\n",
            "1 process created\n"
          ],
          "name": "stdout"
        }
      ]
    },
    {
      "cell_type": "code",
      "metadata": {
        "id": "c-eFyLawSJ5I",
        "colab_type": "code",
        "colab": {
          "base_uri": "https://localhost:8080/",
          "height": 34
        },
        "outputId": "9949e6e7-a479-4839-fb6c-6566f88ddb14"
      },
      "source": [
        "%%writefile if1.pml\n",
        "active proctype P() {\n",
        "    int a = 5, b = 5;\n",
        "    int max;\n",
        "    if\n",
        "    :: a >= b -> max = a; printf(\"A es mayor\\n\")\n",
        "    :: b >= a -> max = b; printf(\"B es mayor\\n\")\n",
        "    fi\n",
        "}"
      ],
      "execution_count": 59,
      "outputs": [
        {
          "output_type": "stream",
          "text": [
            "Overwriting if1.pml\n"
          ],
          "name": "stdout"
        }
      ]
    },
    {
      "cell_type": "code",
      "metadata": {
        "id": "eETfJC6QTAue",
        "colab_type": "code",
        "colab": {
          "base_uri": "https://localhost:8080/",
          "height": 34
        },
        "outputId": "52e3a81c-4446-403a-d6c0-cbb623d2483e"
      },
      "source": [
        "!spin if1.pml"
      ],
      "execution_count": 58,
      "outputs": [
        {
          "output_type": "stream",
          "text": [
            "      B es mayor1 process created\n"
          ],
          "name": "stdout"
        }
      ]
    },
    {
      "cell_type": "code",
      "metadata": {
        "id": "ByQ9WKI6TBvY",
        "colab_type": "code",
        "colab": {
          "base_uri": "https://localhost:8080/",
          "height": 34
        },
        "outputId": "6be75880-843a-40a1-ac12-c0251db5d232"
      },
      "source": [
        "%%writefile for.pml\n",
        "active proctype P() {\n",
        "    int i;\n",
        "    for (i : 1..10) {\n",
        "        printf(\"%d\", i)\n",
        "    }\n",
        "    printf(\"\\n\")\n",
        "}"
      ],
      "execution_count": 62,
      "outputs": [
        {
          "output_type": "stream",
          "text": [
            "Overwriting for.pml\n"
          ],
          "name": "stdout"
        }
      ]
    },
    {
      "cell_type": "code",
      "metadata": {
        "id": "nF6OCJdQUJ4l",
        "colab_type": "code",
        "colab": {
          "base_uri": "https://localhost:8080/",
          "height": 50
        },
        "outputId": "bf586681-7804-4091-b6b0-0f7a8a9625cf"
      },
      "source": [
        "!spin for.pml"
      ],
      "execution_count": 63,
      "outputs": [
        {
          "output_type": "stream",
          "text": [
            "      1      2      3      4      5      6      7      8      9      10      \n",
            "1 process created\n"
          ],
          "name": "stdout"
        }
      ]
    },
    {
      "cell_type": "markdown",
      "metadata": {
        "id": "d_4aQSI4X1LM",
        "colab_type": "text"
      },
      "source": [
        "# Verificación"
      ]
    },
    {
      "cell_type": "code",
      "metadata": {
        "id": "ifxDLWxQUK5o",
        "colab_type": "code",
        "colab": {
          "base_uri": "https://localhost:8080/",
          "height": 34
        },
        "outputId": "0fa4d526-dba8-46e8-d5db-863feb0b2014"
      },
      "source": [
        "%%writefile counter.pml\n",
        "\n",
        "byte n = 0\n",
        "\n",
        "proctype P() {\n",
        "    byte temp, i\n",
        "    for (i : 1..10) {\n",
        "        temp = n\n",
        "        n = temp + 1\n",
        "    }\n",
        "}\n",
        "\n",
        "init {\n",
        "    atomic {\n",
        "        run P();\n",
        "        run P();\n",
        "    }\n",
        "    (_nr_pr == 1) -> printf(\"n = %d\\n\", n)\n",
        "    assert(n > 2)\n",
        "}"
      ],
      "execution_count": 92,
      "outputs": [
        {
          "output_type": "stream",
          "text": [
            "Overwriting counter.pml\n"
          ],
          "name": "stdout"
        }
      ]
    },
    {
      "cell_type": "code",
      "metadata": {
        "id": "5tyispumVds5",
        "colab_type": "code",
        "colab": {
          "base_uri": "https://localhost:8080/",
          "height": 554
        },
        "outputId": "db89be2f-d229-491e-864f-9b89bc425e28"
      },
      "source": [
        "!spin -run counter.pml"
      ],
      "execution_count": 96,
      "outputs": [
        {
          "output_type": "stream",
          "text": [
            "pan:1: assertion violated (n>2) (at depth 90)\n",
            "pan: wrote counter.pml.trail\n",
            "\n",
            "(Spin Version 6.4.6 -- 2 December 2016)\n",
            "Warning: Search not completed\n",
            "\t+ Partial Order Reduction\n",
            "\n",
            "Full statespace search for:\n",
            "\tnever claim         \t- (none specified)\n",
            "\tassertion violations\t+\n",
            "\tcycle checks       \t- (disabled by -DSAFETY)\n",
            "\tinvalid end states\t+\n",
            "\n",
            "State-vector 28 byte, depth reached 92, errors: 1\n",
            "    77329 states, stored\n",
            "    28628 states, matched\n",
            "   105957 transitions (= stored+matched)\n",
            "        1 atomic steps\n",
            "hash conflicts:        79 (resolved)\n",
            "\n",
            "Stats on memory usage (in Megabytes):\n",
            "    4.130\tequivalent memory usage for states (stored*(State-vector + overhead))\n",
            "    3.221\tactual memory usage for states (compression: 77.99%)\n",
            "         \tstate-vector as stored = 16 byte + 28 byte overhead\n",
            "  128.000\tmemory used for hash table (-w24)\n",
            "    0.534\tmemory used for DFS stack (-m10000)\n",
            "  131.659\ttotal actual memory usage\n",
            "\n",
            "\n",
            "\n",
            "pan: elapsed time 0.03 seconds\n",
            "pan: rate 2577633.3 states/second\n"
          ],
          "name": "stdout"
        }
      ]
    },
    {
      "cell_type": "code",
      "metadata": {
        "id": "w1zdk1PXWhEW",
        "colab_type": "code",
        "colab": {
          "base_uri": "https://localhost:8080/",
          "height": 554
        },
        "outputId": "8aa1accd-a066-4d9e-b0cd-5925161c5962"
      },
      "source": [
        "%%script bash\n",
        "spin -a counter.pml # crear un verificador en C\n",
        "gcc pan.c           # los archivos pan son parte del verificador\n",
        "./a.out             # ejecutando el verificador compilado"
      ],
      "execution_count": 98,
      "outputs": [
        {
          "output_type": "stream",
          "text": [
            "pan:1: assertion violated (n>2) (at depth 90)\n",
            "pan: wrote counter.pml.trail\n",
            "\n",
            "(Spin Version 6.4.6 -- 2 December 2016)\n",
            "Warning: Search not completed\n",
            "\t+ Partial Order Reduction\n",
            "\n",
            "Full statespace search for:\n",
            "\tnever claim         \t- (none specified)\n",
            "\tassertion violations\t+\n",
            "\tacceptance   cycles \t- (not selected)\n",
            "\tinvalid end states\t+\n",
            "\n",
            "State-vector 36 byte, depth reached 92, errors: 1\n",
            "    77329 states, stored\n",
            "    28628 states, matched\n",
            "   105957 transitions (= stored+matched)\n",
            "        1 atomic steps\n",
            "hash conflicts:        46 (resolved)\n",
            "\n",
            "Stats on memory usage (in Megabytes):\n",
            "    4.720\tequivalent memory usage for states (stored*(State-vector + overhead))\n",
            "    3.221\tactual memory usage for states (compression: 68.24%)\n",
            "         \tstate-vector as stored = 16 byte + 28 byte overhead\n",
            "  128.000\tmemory used for hash table (-w24)\n",
            "    0.534\tmemory used for DFS stack (-m10000)\n",
            "  131.659\ttotal actual memory usage\n",
            "\n",
            "\n",
            "\n",
            "pan: elapsed time 0.05 seconds\n",
            "pan: rate   1546580 states/second\n"
          ],
          "name": "stdout"
        }
      ]
    },
    {
      "cell_type": "code",
      "metadata": {
        "id": "i7y2lZXhVfGS",
        "colab_type": "code",
        "colab": {
          "base_uri": "https://localhost:8080/",
          "height": 151
        },
        "outputId": "52003c09-2052-4b88-bfba-ab4efcfc5440"
      },
      "source": [
        "!spin -t counter.pml"
      ],
      "execution_count": 100,
      "outputs": [
        {
          "output_type": "stream",
          "text": [
            "      n = 2\n",
            "spin: counter.pml:18, Error: assertion violated\n",
            "spin: text of failed assertion: assert((n>2))\n",
            "spin: trail ends after 91 steps\n",
            "#processes: 1\n",
            "\t\tn = 2\n",
            " 91:\tproc  0 (:init::1) counter.pml:19 (state 7) <valid end state>\n",
            "3 processes created\n"
          ],
          "name": "stdout"
        }
      ]
    },
    {
      "cell_type": "code",
      "metadata": {
        "id": "Qu8yDv62XCBu",
        "colab_type": "code",
        "colab": {}
      },
      "source": [
        ""
      ],
      "execution_count": null,
      "outputs": []
    }
  ]
}