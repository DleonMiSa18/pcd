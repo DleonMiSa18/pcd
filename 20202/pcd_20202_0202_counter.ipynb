{
  "nbformat": 4,
  "nbformat_minor": 0,
  "metadata": {
    "colab": {
      "name": "pcd 20202 0202 counter.ipynb",
      "provenance": [],
      "authorship_tag": "ABX9TyPxrWYTqB19pE7WasvQXRJk",
      "include_colab_link": true
    },
    "kernelspec": {
      "name": "python3",
      "display_name": "Python 3"
    }
  },
  "cells": [
    {
      "cell_type": "markdown",
      "metadata": {
        "id": "view-in-github",
        "colab_type": "text"
      },
      "source": [
        "<a href=\"https://colab.research.google.com/github/pcsilcan/pcd/blob/master/20202/pcd_20202_0202_counter.ipynb\" target=\"_parent\"><img src=\"https://colab.research.google.com/assets/colab-badge.svg\" alt=\"Open In Colab\"/></a>"
      ]
    },
    {
      "cell_type": "code",
      "metadata": {
        "id": "_h2yx-GTC_K1",
        "colab_type": "code",
        "colab": {}
      },
      "source": [
        "%%script bash\n",
        "apt install golang-go\n",
        "go version"
      ],
      "execution_count": null,
      "outputs": []
    },
    {
      "cell_type": "code",
      "metadata": {
        "id": "1BSaskNfDUFw",
        "colab_type": "code",
        "colab": {
          "base_uri": "https://localhost:8080/",
          "height": 34
        },
        "outputId": "29852c63-591c-4f04-f7a6-632348691dff"
      },
      "source": [
        "%%writefile counter.go\n",
        "package main\n",
        "\n",
        "import (\n",
        "    \"fmt\"\n",
        "    \"math/rand\"\n",
        "    \"time\"\n",
        ")\n",
        "\n",
        "var n int\n",
        "\n",
        "func P() {\n",
        "    var temp int\n",
        "    for i := 0; i < 10; i++ {\n",
        "        rndPause()\n",
        "        temp = n\n",
        "        rndPause()\n",
        "        n = temp + 1\n",
        "    }\n",
        "}\n",
        "\n",
        "func main() {\n",
        "    rand.Seed(time.Now().UTC().UnixNano())\n",
        "    go P()\n",
        "    go P()\n",
        "    time.Sleep(2*time.Second)\n",
        "    fmt.Println(n)\n",
        "}\n",
        "\n",
        "func rndPause() {\n",
        "    dur := time.Duration(rand.Intn(130) + 20)\n",
        "    time.Sleep(dur*time.Millisecond)\n",
        "}\n"
      ],
      "execution_count": 14,
      "outputs": [
        {
          "output_type": "stream",
          "text": [
            "Overwriting counter.go\n"
          ],
          "name": "stdout"
        }
      ]
    },
    {
      "cell_type": "code",
      "metadata": {
        "id": "VAOcgbntEwm8",
        "colab_type": "code",
        "colab": {
          "base_uri": "https://localhost:8080/",
          "height": 34
        },
        "outputId": "0630ddfc-4cd0-4aac-f064-cd75e242ac39"
      },
      "source": [
        "!go run counter.go"
      ],
      "execution_count": 21,
      "outputs": [
        {
          "output_type": "stream",
          "text": [
            "13\n"
          ],
          "name": "stdout"
        }
      ]
    },
    {
      "cell_type": "code",
      "metadata": {
        "id": "2Ig4nKJ_Ey0G",
        "colab_type": "code",
        "colab": {}
      },
      "source": [
        ""
      ],
      "execution_count": null,
      "outputs": []
    }
  ]
}