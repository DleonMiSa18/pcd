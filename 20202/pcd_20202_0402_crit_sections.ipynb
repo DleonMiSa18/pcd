{
  "nbformat": 4,
  "nbformat_minor": 0,
  "metadata": {
    "colab": {
      "name": "pcd 20202 0402 crit sections.ipynb",
      "provenance": [],
      "authorship_tag": "ABX9TyODYsY1QXII9N48SOAc390G",
      "include_colab_link": true
    },
    "kernelspec": {
      "name": "python3",
      "display_name": "Python 3"
    }
  },
  "cells": [
    {
      "cell_type": "markdown",
      "metadata": {
        "id": "view-in-github",
        "colab_type": "text"
      },
      "source": [
        "<a href=\"https://colab.research.google.com/github/pcsilcan/pcd/blob/master/20202/pcd_20202_0402_crit_sections.ipynb\" target=\"_parent\"><img src=\"https://colab.research.google.com/assets/colab-badge.svg\" alt=\"Open In Colab\"/></a>"
      ]
    },
    {
      "cell_type": "code",
      "metadata": {
        "id": "344FAWC7cT59",
        "colab_type": "code",
        "colab": {}
      },
      "source": [
        "!apt install spin"
      ],
      "execution_count": null,
      "outputs": []
    },
    {
      "cell_type": "markdown",
      "metadata": {
        "id": "1dh8ynpVccO6",
        "colab_type": "text"
      },
      "source": [
        "# Critical Section\n",
        "Queremos verificar las condiciones de correctitud de programas con sección crítica:\n",
        "* Exclusión mutua\n",
        "* No deadlock\n",
        "* No livelock\n",
        "* No starvation"
      ]
    },
    {
      "cell_type": "code",
      "metadata": {
        "id": "g38j-4UocXp_",
        "colab_type": "code",
        "colab": {
          "base_uri": "https://localhost:8080/",
          "height": 34
        },
        "outputId": "b7c83e0d-75c5-4e48-f7b0-a8d74338ccbd"
      },
      "source": [
        "%%writefile crit1.pml\n",
        "byte turn = 1\n",
        "\n",
        "active proctype P() {\n",
        "    byte i = 0\n",
        "    for (i : 1..20) {\n",
        "        printf(\"NCR 1\\n\"); printf(\"NCR 2\\n\"); printf(\"NCR 3\\n\");\n",
        "\n",
        "        turn == 1-> // await (expr -> op1 [: op2] === expr ? op1 : op2)\n",
        "        printf(\"Critical 1\\n\"); printf(\"Critical 2\\n\"); printf(\"Critical 3\\n\")\n",
        "\n",
        "        turn = 2\n",
        "    }\n",
        "}\n",
        "active proctype Q() {\n",
        "    byte i = 0\n",
        "    for (i : 1..20) {\n",
        "        printf(\"NCR 1\\n\"); printf(\"NCR 2\\n\"); printf(\"NCR 3\\n\");\n",
        "\n",
        "        turn == 2-> // await\n",
        "\n",
        "        printf(\"Critical 1\\n\"); printf(\"Critical 2\\n\"); printf(\"Critical 3\\n\")\n",
        "\n",
        "        turn = 1\n",
        "    }\n",
        "}"
      ],
      "execution_count": 4,
      "outputs": [
        {
          "output_type": "stream",
          "text": [
            "Overwriting crit1.pml\n"
          ],
          "name": "stdout"
        }
      ]
    },
    {
      "cell_type": "code",
      "metadata": {
        "id": "jcWuMpC7dWr3",
        "colab_type": "code",
        "colab": {}
      },
      "source": [
        "!spin crit1.pml"
      ],
      "execution_count": null,
      "outputs": []
    },
    {
      "cell_type": "code",
      "metadata": {
        "id": "tNgmqnbmdYXX",
        "colab_type": "code",
        "colab": {
          "base_uri": "https://localhost:8080/",
          "height": 34
        },
        "outputId": "79347b80-0d5f-4f9c-fcf2-03dc0f38b2b1"
      },
      "source": [
        "%%writefile crit1b.pml\n",
        "byte turn = 1\n",
        "byte cont = 0\n",
        "\n",
        "active proctype P() {\n",
        "    do\n",
        "    :: turn == 1-> \n",
        "        cont++\n",
        "        assert(cont < 2)\n",
        "        cont--\n",
        "        turn = 2\n",
        "    od\n",
        "}\n",
        "active proctype Q() {\n",
        "    do\n",
        "    :: turn == 2->\n",
        "        cont++\n",
        "        assert(cont < 2)\n",
        "        cont--\n",
        "        turn = 1\n",
        "    od\n",
        "}"
      ],
      "execution_count": 6,
      "outputs": [
        {
          "output_type": "stream",
          "text": [
            "Writing crit1b.pml\n"
          ],
          "name": "stdout"
        }
      ]
    },
    {
      "cell_type": "code",
      "metadata": {
        "id": "4DSprc57gLDK",
        "colab_type": "code",
        "colab": {
          "base_uri": "https://localhost:8080/",
          "height": 571
        },
        "outputId": "72c4c014-05a2-44a6-98e0-cfafa964af29"
      },
      "source": [
        "!spin -run crit1b.pml"
      ],
      "execution_count": 7,
      "outputs": [
        {
          "output_type": "stream",
          "text": [
            "\n",
            "(Spin Version 6.4.6 -- 2 December 2016)\n",
            "\t+ Partial Order Reduction\n",
            "\n",
            "Full statespace search for:\n",
            "\tnever claim         \t- (none specified)\n",
            "\tassertion violations\t+\n",
            "\tcycle checks       \t- (disabled by -DSAFETY)\n",
            "\tinvalid end states\t+\n",
            "\n",
            "State-vector 20 byte, depth reached 9, errors: 0\n",
            "       10 states, stored\n",
            "        1 states, matched\n",
            "       11 transitions (= stored+matched)\n",
            "        0 atomic steps\n",
            "hash conflicts:         0 (resolved)\n",
            "\n",
            "Stats on memory usage (in Megabytes):\n",
            "    0.000\tequivalent memory usage for states (stored*(State-vector + overhead))\n",
            "    0.291\tactual memory usage for states\n",
            "  128.000\tmemory used for hash table (-w24)\n",
            "    0.534\tmemory used for DFS stack (-m10000)\n",
            "  128.730\ttotal actual memory usage\n",
            "\n",
            "\n",
            "unreached in proctype P\n",
            "\tcrit1b.pml:12, state 9, \"-end-\"\n",
            "\t(1 of 9 states)\n",
            "unreached in proctype Q\n",
            "\tcrit1b.pml:21, state 9, \"-end-\"\n",
            "\t(1 of 9 states)\n",
            "\n",
            "pan: elapsed time 0 seconds\n"
          ],
          "name": "stdout"
        }
      ]
    },
    {
      "cell_type": "code",
      "metadata": {
        "id": "llIb-tN1gOFz",
        "colab_type": "code",
        "colab": {
          "base_uri": "https://localhost:8080/",
          "height": 34
        },
        "outputId": "fc1d6529-7398-409d-f96e-e14b8b7e3b71"
      },
      "source": [
        "%%writefile crit2b.pml\n",
        "bool wantp = false, wantq = false\n",
        "byte cont = 0\n",
        "\n",
        "active proctype P() {\n",
        "    do\n",
        "    :: !wantq -> \n",
        "        wantp = true\n",
        "        cont++\n",
        "        assert(cont < 2)\n",
        "        cont--\n",
        "        wantp = false\n",
        "    od\n",
        "}\n",
        "active proctype Q() {\n",
        "    do\n",
        "    :: !wantp -> \n",
        "        wantq = true\n",
        "        cont++\n",
        "        assert(cont < 2)\n",
        "        cont--\n",
        "        wantq = false\n",
        "    od\n",
        "}"
      ],
      "execution_count": 9,
      "outputs": [
        {
          "output_type": "stream",
          "text": [
            "Writing crit2b.pml\n"
          ],
          "name": "stdout"
        }
      ]
    },
    {
      "cell_type": "code",
      "metadata": {
        "id": "oL5FgAsJjtI5",
        "colab_type": "code",
        "colab": {
          "base_uri": "https://localhost:8080/",
          "height": 521
        },
        "outputId": "fcec1553-322b-4fb0-c237-620f11f542ed"
      },
      "source": [
        "!spin -run crit2b.pml"
      ],
      "execution_count": 10,
      "outputs": [
        {
          "output_type": "stream",
          "text": [
            "pan:1: assertion violated (cont<2) (at depth 7)\n",
            "pan: wrote crit2b.pml.trail\n",
            "\n",
            "(Spin Version 6.4.6 -- 2 December 2016)\n",
            "Warning: Search not completed\n",
            "\t+ Partial Order Reduction\n",
            "\n",
            "Full statespace search for:\n",
            "\tnever claim         \t- (none specified)\n",
            "\tassertion violations\t+\n",
            "\tcycle checks       \t- (disabled by -DSAFETY)\n",
            "\tinvalid end states\t+\n",
            "\n",
            "State-vector 20 byte, depth reached 11, errors: 1\n",
            "       22 states, stored\n",
            "       10 states, matched\n",
            "       32 transitions (= stored+matched)\n",
            "        0 atomic steps\n",
            "hash conflicts:         0 (resolved)\n",
            "\n",
            "Stats on memory usage (in Megabytes):\n",
            "    0.001\tequivalent memory usage for states (stored*(State-vector + overhead))\n",
            "    0.291\tactual memory usage for states\n",
            "  128.000\tmemory used for hash table (-w24)\n",
            "    0.534\tmemory used for DFS stack (-m10000)\n",
            "  128.730\ttotal actual memory usage\n",
            "\n",
            "\n",
            "\n",
            "pan: elapsed time 0.01 seconds\n"
          ],
          "name": "stdout"
        }
      ]
    },
    {
      "cell_type": "code",
      "metadata": {
        "id": "E30Rj9eNjxCc",
        "colab_type": "code",
        "colab": {
          "base_uri": "https://localhost:8080/",
          "height": 34
        },
        "outputId": "c7d41c3b-e845-40a9-e9e9-cbbddbf80af4"
      },
      "source": [
        "%%writefile crit3b.pml\n",
        "bool wantp = false, wantq = false\n",
        "\n",
        "active proctype P() {\n",
        "    do\n",
        "    :: \n",
        "        wantp = true\n",
        "        !wantq ->\n",
        "        wantp = false\n",
        "    od\n",
        "}\n",
        "active proctype Q() {\n",
        "    do\n",
        "    ::\n",
        "        wantq = true\n",
        "        !wantp ->\n",
        "        wantq = false\n",
        "    od\n",
        "}"
      ],
      "execution_count": 14,
      "outputs": [
        {
          "output_type": "stream",
          "text": [
            "Overwriting crit3b.pml\n"
          ],
          "name": "stdout"
        }
      ]
    },
    {
      "cell_type": "code",
      "metadata": {
        "id": "sX4LK_AtkSdx",
        "colab_type": "code",
        "colab": {
          "base_uri": "https://localhost:8080/",
          "height": 521
        },
        "outputId": "b8645dd4-da84-4e3f-d68d-0d9412831863"
      },
      "source": [
        "!spin -run crit3b.pml"
      ],
      "execution_count": 12,
      "outputs": [
        {
          "output_type": "stream",
          "text": [
            "pan:1: invalid end state (at depth 4)\n",
            "pan: wrote crit3b.pml.trail\n",
            "\n",
            "(Spin Version 6.4.6 -- 2 December 2016)\n",
            "Warning: Search not completed\n",
            "\t+ Partial Order Reduction\n",
            "\n",
            "Full statespace search for:\n",
            "\tnever claim         \t- (none specified)\n",
            "\tassertion violations\t+\n",
            "\tcycle checks       \t- (disabled by -DSAFETY)\n",
            "\tinvalid end states\t+\n",
            "\n",
            "State-vector 20 byte, depth reached 5, errors: 1\n",
            "        6 states, stored\n",
            "        1 states, matched\n",
            "        7 transitions (= stored+matched)\n",
            "        0 atomic steps\n",
            "hash conflicts:         0 (resolved)\n",
            "\n",
            "Stats on memory usage (in Megabytes):\n",
            "    0.000\tequivalent memory usage for states (stored*(State-vector + overhead))\n",
            "    0.292\tactual memory usage for states\n",
            "  128.000\tmemory used for hash table (-w24)\n",
            "    0.534\tmemory used for DFS stack (-m10000)\n",
            "  128.730\ttotal actual memory usage\n",
            "\n",
            "\n",
            "\n",
            "pan: elapsed time 0 seconds\n"
          ],
          "name": "stdout"
        }
      ]
    },
    {
      "cell_type": "code",
      "metadata": {
        "id": "CYGgYxdhkVb5",
        "colab_type": "code",
        "colab": {
          "base_uri": "https://localhost:8080/",
          "height": 134
        },
        "outputId": "9ba83f5f-a8dc-41a3-b7fb-4552d930fd21"
      },
      "source": [
        "!spin -t crit3b.pml"
      ],
      "execution_count": 13,
      "outputs": [
        {
          "output_type": "stream",
          "text": [
            "spin: trail ends after 5 steps\n",
            "#processes: 2\n",
            "\t\twantp = 1\n",
            "\t\twantq = 1\n",
            "  5:\tproc  1 (Q:1) crit3b.pml:19 (state 2)\n",
            "  5:\tproc  0 (P:1) crit3b.pml:8 (state 2)\n",
            "2 processes created\n"
          ],
          "name": "stdout"
        }
      ]
    },
    {
      "cell_type": "code",
      "metadata": {
        "id": "npmdGWQqkdwD",
        "colab_type": "code",
        "colab": {}
      },
      "source": [
        ""
      ],
      "execution_count": null,
      "outputs": []
    }
  ]
}