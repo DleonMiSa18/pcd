{
  "nbformat": 4,
  "nbformat_minor": 0,
  "metadata": {
    "colab": {
      "name": "pcd 20202 0601 dining philosophers.ipynb",
      "provenance": [],
      "authorship_tag": "ABX9TyMj24+mzKvuwO+3yHDWusuW",
      "include_colab_link": true
    },
    "kernelspec": {
      "name": "python3",
      "display_name": "Python 3"
    }
  },
  "cells": [
    {
      "cell_type": "markdown",
      "metadata": {
        "id": "view-in-github",
        "colab_type": "text"
      },
      "source": [
        "<a href=\"https://colab.research.google.com/github/pcsilcan/pcd/blob/master/20202/pcd_20202_0601_dining_philosophers.ipynb\" target=\"_parent\"><img src=\"https://colab.research.google.com/assets/colab-badge.svg\" alt=\"Open In Colab\"/></a>"
      ]
    },
    {
      "cell_type": "code",
      "metadata": {
        "id": "fo0httTfPVOg",
        "colab_type": "code",
        "colab": {}
      },
      "source": [
        "!apt install golang-go"
      ],
      "execution_count": null,
      "outputs": []
    },
    {
      "cell_type": "code",
      "metadata": {
        "id": "dsPqavmoPrql",
        "colab_type": "code",
        "colab": {
          "base_uri": "https://localhost:8080/",
          "height": 34
        },
        "outputId": "614362ca-4bac-4847-beeb-e0abcd660415"
      },
      "source": [
        "%%writefile dp.go\n",
        "package main\n",
        "\n",
        "import (\n",
        "    \"sync\"\n",
        ")\n",
        "\n",
        "func philosopher(id int, rightFork, leftFork sync.Mutex) {\n",
        "    for {\n",
        "        // thinking\n",
        "        rightFork.Lock()\n",
        "        leftFork.Lock()\n",
        "        // eat\n",
        "        rightFork.Unlock()\n",
        "        leftFork.Unlock()\n",
        "    }\n",
        "}\n",
        "\n",
        "func main() {\n",
        "    n := 5\n",
        "    forks := make([]sync.Mutex, n)\n",
        "    for i := 0; i < n -1 ; i++ {\n",
        "        go philosopher(i, forks[i], forks[i + 1])\n",
        "    }\n",
        "    philosopher(n-1, forks[n-1], forks[0])\n",
        "}"
      ],
      "execution_count": 5,
      "outputs": [
        {
          "output_type": "stream",
          "text": [
            "Overwriting dp.go\n"
          ],
          "name": "stdout"
        }
      ]
    },
    {
      "cell_type": "code",
      "metadata": {
        "id": "9l5_n7-QRivs",
        "colab_type": "code",
        "colab": {
          "base_uri": "https://localhost:8080/",
          "height": 34
        },
        "outputId": "147bdd1d-50c4-4063-a438-5a78ca3e469f"
      },
      "source": [
        "!go run dp.go"
      ],
      "execution_count": 6,
      "outputs": [
        {
          "output_type": "stream",
          "text": [
            "signal: interrupt\n"
          ],
          "name": "stdout"
        }
      ]
    },
    {
      "cell_type": "code",
      "metadata": {
        "id": "l8MIEzVLSZda",
        "colab_type": "code",
        "colab": {}
      },
      "source": [
        "!apt install spin"
      ],
      "execution_count": null,
      "outputs": []
    },
    {
      "cell_type": "code",
      "metadata": {
        "id": "2C0AwuDHRlRe",
        "colab_type": "code",
        "colab": {
          "base_uri": "https://localhost:8080/",
          "height": 34
        },
        "outputId": "10959def-68d4-4760-ddbc-fbd710b3751e"
      },
      "source": [
        "%%writefile dp1.pml\n",
        "#define wait(s) atomic { s > 0 -> s-- }\n",
        "#define signal(s) s++\n",
        "\n",
        "byte forks[5] = { 1, 1, 1, 1, 1 }\n",
        "\n",
        "active[5] proctype P() {\n",
        "    do\n",
        "    ::\n",
        "        // think\n",
        "        wait(forks[_pid])\n",
        "        wait(forks[(_pid+1)%5])\n",
        "        // eat\n",
        "        signal(forks[_pid])\n",
        "        signal(forks[(_pid+1)%5])\n",
        "    od\n",
        "}"
      ],
      "execution_count": 11,
      "outputs": [
        {
          "output_type": "stream",
          "text": [
            "Overwriting dp1.pml\n"
          ],
          "name": "stdout"
        }
      ]
    },
    {
      "cell_type": "code",
      "metadata": {
        "id": "CkP_i1KQSUvZ",
        "colab_type": "code",
        "colab": {
          "base_uri": "https://localhost:8080/",
          "height": 521
        },
        "outputId": "81de32f7-c006-4300-b489-0c15a681b8ee"
      },
      "source": [
        "!spin -run dp1.pml"
      ],
      "execution_count": 13,
      "outputs": [
        {
          "output_type": "stream",
          "text": [
            "pan:1: invalid end state (at depth 56)\n",
            "pan: wrote dp1.pml.trail\n",
            "\n",
            "(Spin Version 6.4.6 -- 2 December 2016)\n",
            "Warning: Search not completed\n",
            "\t+ Partial Order Reduction\n",
            "\n",
            "Full statespace search for:\n",
            "\tnever claim         \t- (none specified)\n",
            "\tassertion violations\t+\n",
            "\tcycle checks       \t- (disabled by -DSAFETY)\n",
            "\tinvalid end states\t+\n",
            "\n",
            "State-vector 52 byte, depth reached 57, errors: 1\n",
            "       58 states, stored\n",
            "       16 states, matched\n",
            "       74 transitions (= stored+matched)\n",
            "        0 atomic steps\n",
            "hash conflicts:         0 (resolved)\n",
            "\n",
            "Stats on memory usage (in Megabytes):\n",
            "    0.004\tequivalent memory usage for states (stored*(State-vector + overhead))\n",
            "    0.291\tactual memory usage for states\n",
            "  128.000\tmemory used for hash table (-w24)\n",
            "    0.534\tmemory used for DFS stack (-m10000)\n",
            "  128.730\ttotal actual memory usage\n",
            "\n",
            "\n",
            "\n",
            "pan: elapsed time 0 seconds\n"
          ],
          "name": "stdout"
        }
      ]
    },
    {
      "cell_type": "code",
      "metadata": {
        "id": "JhR3wID_SWa0",
        "colab_type": "code",
        "colab": {
          "base_uri": "https://localhost:8080/",
          "height": 235
        },
        "outputId": "5410a4f6-83a8-45d6-f8d1-fb8a4fbce085"
      },
      "source": [
        "!spin -t dp1.pml"
      ],
      "execution_count": 14,
      "outputs": [
        {
          "output_type": "stream",
          "text": [
            "spin: trail ends after 57 steps\n",
            "#processes: 5\n",
            "\t\tforks[0] = 0\n",
            "\t\tforks[1] = 0\n",
            "\t\tforks[2] = 0\n",
            "\t\tforks[3] = 0\n",
            "\t\tforks[4] = 0\n",
            " 57:\tproc  4 (P:1) dp1.pml:11 (state 6)\n",
            " 57:\tproc  3 (P:1) dp1.pml:11 (state 6)\n",
            " 57:\tproc  2 (P:1) dp1.pml:11 (state 6)\n",
            " 57:\tproc  1 (P:1) dp1.pml:11 (state 6)\n",
            " 57:\tproc  0 (P:1) dp1.pml:11 (state 6)\n",
            "5 processes created\n"
          ],
          "name": "stdout"
        }
      ]
    },
    {
      "cell_type": "code",
      "metadata": {
        "id": "hGIFjHmKTJHM",
        "colab_type": "code",
        "colab": {
          "base_uri": "https://localhost:8080/",
          "height": 34
        },
        "outputId": "20f16196-e8cf-4567-db43-1427d0ece364"
      },
      "source": [
        "%%writefile dp2.pml\n",
        "#define wait(s) atomic { s > 0 -> s-- }\n",
        "#define signal(s) s++\n",
        "\n",
        "byte forks[5] = { 1, 1, 1, 1, 1 }\n",
        "byte room = 4\n",
        "\n",
        "active[5] proctype P() {\n",
        "    do\n",
        "    ::\n",
        "        // think\n",
        "        wait(room)\n",
        "        wait(forks[_pid])\n",
        "        wait(forks[(_pid+1)%5])\n",
        "        // eat\n",
        "        signal(forks[_pid])\n",
        "        signal(forks[(_pid+1)%5])\n",
        "        signal(room)\n",
        "    od\n",
        "}"
      ],
      "execution_count": 15,
      "outputs": [
        {
          "output_type": "stream",
          "text": [
            "Writing dp2.pml\n"
          ],
          "name": "stdout"
        }
      ]
    },
    {
      "cell_type": "code",
      "metadata": {
        "id": "JPwEHYbFWtoI",
        "colab_type": "code",
        "colab": {
          "base_uri": "https://localhost:8080/",
          "height": 521
        },
        "outputId": "8ae4aee2-9917-4c5e-9604-7561fe12c018"
      },
      "source": [
        "!spin -run dp2.pml"
      ],
      "execution_count": 16,
      "outputs": [
        {
          "output_type": "stream",
          "text": [
            "\n",
            "(Spin Version 6.4.6 -- 2 December 2016)\n",
            "\t+ Partial Order Reduction\n",
            "\n",
            "Full statespace search for:\n",
            "\tnever claim         \t- (none specified)\n",
            "\tassertion violations\t+\n",
            "\tcycle checks       \t- (disabled by -DSAFETY)\n",
            "\tinvalid end states\t+\n",
            "\n",
            "State-vector 52 byte, depth reached 2305, errors: 0\n",
            "     3111 states, stored\n",
            "     9280 states, matched\n",
            "    12391 transitions (= stored+matched)\n",
            "        0 atomic steps\n",
            "hash conflicts:         0 (resolved)\n",
            "\n",
            "Stats on memory usage (in Megabytes):\n",
            "    0.237\tequivalent memory usage for states (stored*(State-vector + overhead))\n",
            "    0.389\tactual memory usage for states\n",
            "  128.000\tmemory used for hash table (-w24)\n",
            "    0.534\tmemory used for DFS stack (-m10000)\n",
            "  128.827\ttotal actual memory usage\n",
            "\n",
            "\n",
            "unreached in proctype P\n",
            "\tdp2.pml:19, state 16, \"-end-\"\n",
            "\t(1 of 16 states)\n",
            "\n",
            "pan: elapsed time 0 seconds\n"
          ],
          "name": "stdout"
        }
      ]
    },
    {
      "cell_type": "code",
      "metadata": {
        "id": "hbSF9NHYWwqQ",
        "colab_type": "code",
        "colab": {
          "base_uri": "https://localhost:8080/",
          "height": 34
        },
        "outputId": "71fc5ff2-9e09-44a2-a2de-379e242ae9ba"
      },
      "source": [
        "%%writefile dp3.pml\n",
        "#define wait(s) atomic { s > 0 -> s-- }\n",
        "#define signal(s) s++\n",
        "\n",
        "byte forks[5] = { 1, 1, 1, 1, 1 }\n",
        "\n",
        "active[4] proctype P() {\n",
        "    do\n",
        "    ::\n",
        "        // think\n",
        "        wait(forks[_pid])\n",
        "        wait(forks[(_pid+1)%5])\n",
        "        // eat\n",
        "        signal(forks[_pid])\n",
        "        signal(forks[(_pid+1)%5])\n",
        "    od\n",
        "}\n",
        "\n",
        "active proctype PL() {\n",
        "    do\n",
        "    ::\n",
        "        // think\n",
        "        wait(forks[0])\n",
        "        wait(forks[4])\n",
        "        // eat\n",
        "        signal(forks[0])\n",
        "        signal(forks[4])\n",
        "    od\n",
        "}"
      ],
      "execution_count": 17,
      "outputs": [
        {
          "output_type": "stream",
          "text": [
            "Writing dp3.pml\n"
          ],
          "name": "stdout"
        }
      ]
    },
    {
      "cell_type": "code",
      "metadata": {
        "id": "dE6ImFBQYi2_",
        "colab_type": "code",
        "colab": {
          "base_uri": "https://localhost:8080/",
          "height": 571
        },
        "outputId": "60b035d9-b775-4c71-b31f-a8abe5ef9030"
      },
      "source": [
        "!spin -run dp3.pml"
      ],
      "execution_count": 18,
      "outputs": [
        {
          "output_type": "stream",
          "text": [
            "\n",
            "(Spin Version 6.4.6 -- 2 December 2016)\n",
            "\t+ Partial Order Reduction\n",
            "\n",
            "Full statespace search for:\n",
            "\tnever claim         \t- (none specified)\n",
            "\tassertion violations\t+\n",
            "\tcycle checks       \t- (disabled by -DSAFETY)\n",
            "\tinvalid end states\t+\n",
            "\n",
            "State-vector 52 byte, depth reached 174, errors: 0\n",
            "      243 states, stored\n",
            "      568 states, matched\n",
            "      811 transitions (= stored+matched)\n",
            "        0 atomic steps\n",
            "hash conflicts:         0 (resolved)\n",
            "\n",
            "Stats on memory usage (in Megabytes):\n",
            "    0.019\tequivalent memory usage for states (stored*(State-vector + overhead))\n",
            "    0.290\tactual memory usage for states\n",
            "  128.000\tmemory used for hash table (-w24)\n",
            "    0.534\tmemory used for DFS stack (-m10000)\n",
            "  128.730\ttotal actual memory usage\n",
            "\n",
            "\n",
            "unreached in proctype P\n",
            "\tdp3.pml:16, state 12, \"-end-\"\n",
            "\t(1 of 12 states)\n",
            "unreached in proctype PL\n",
            "\tdp3.pml:28, state 12, \"-end-\"\n",
            "\t(1 of 12 states)\n",
            "\n",
            "pan: elapsed time 0 seconds\n"
          ],
          "name": "stdout"
        }
      ]
    },
    {
      "cell_type": "code",
      "metadata": {
        "id": "S4sPGM9IYk7W",
        "colab_type": "code",
        "colab": {}
      },
      "source": [
        ""
      ],
      "execution_count": null,
      "outputs": []
    }
  ]
}