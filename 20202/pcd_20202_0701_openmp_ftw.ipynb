{
  "nbformat": 4,
  "nbformat_minor": 0,
  "metadata": {
    "colab": {
      "name": "pcd 20202 0701 openmp ftw.ipynb",
      "provenance": [],
      "authorship_tag": "ABX9TyNLz2+5jIwDZmditvXRDok1",
      "include_colab_link": true
    },
    "kernelspec": {
      "name": "python3",
      "display_name": "Python 3"
    }
  },
  "cells": [
    {
      "cell_type": "markdown",
      "metadata": {
        "id": "view-in-github",
        "colab_type": "text"
      },
      "source": [
        "<a href=\"https://colab.research.google.com/github/pcsilcan/pcd/blob/master/20202/pcd_20202_0701_openmp_ftw.ipynb\" target=\"_parent\"><img src=\"https://colab.research.google.com/assets/colab-badge.svg\" alt=\"Open In Colab\"/></a>"
      ]
    },
    {
      "cell_type": "markdown",
      "metadata": {
        "id": "6PHJhP2PSgxc"
      },
      "source": [
        "# OpenMP"
      ]
    },
    {
      "cell_type": "code",
      "metadata": {
        "id": "PCwQPTVwQu96",
        "outputId": "da1c1efb-4b1a-4578-d66e-70297be290be",
        "colab": {
          "base_uri": "https://localhost:8080/",
          "height": 34
        }
      },
      "source": [
        "%%writefile 1.cpp\n",
        "#include <stdio.h>\n",
        "#include <omp.h>\n",
        "\n",
        "int main() {\n",
        "#pragma omp parallel\n",
        "{\n",
        "    int id = omp_get_thread_num();\n",
        "    printf(\"Hello(%d), \", id);\n",
        "    printf(\"World(%d)!\\n\", id);\n",
        "}\n",
        "\n",
        "    return 0;\n",
        "}"
      ],
      "execution_count": 5,
      "outputs": [
        {
          "output_type": "stream",
          "text": [
            "Overwriting 1.cpp\n"
          ],
          "name": "stdout"
        }
      ]
    },
    {
      "cell_type": "code",
      "metadata": {
        "id": "-8akyMBkTCgJ",
        "outputId": "96f210d8-c5e0-41e6-d9e7-186b216ef35b",
        "colab": {
          "base_uri": "https://localhost:8080/",
          "height": 50
        }
      },
      "source": [
        "!g++ -std=c++17 -fopenmp 1.cpp && ./a.out"
      ],
      "execution_count": 12,
      "outputs": [
        {
          "output_type": "stream",
          "text": [
            "Hello(0), World(0)!\n",
            "Hello(1), World(1)!\n"
          ],
          "name": "stdout"
        }
      ]
    },
    {
      "cell_type": "markdown",
      "metadata": {
        "id": "hYJ7CyfMa-MN"
      },
      "source": [
        "# Calc $\\pi$\n",
        "\n",
        "## Serial"
      ]
    },
    {
      "cell_type": "code",
      "metadata": {
        "id": "_OFOSMWITNN1",
        "outputId": "ceee1066-cf2f-4bcd-f98c-8fde446b6fce",
        "colab": {
          "base_uri": "https://localhost:8080/",
          "height": 34
        }
      },
      "source": [
        "%%writefile pi0.cpp\n",
        "#include <stdio.h>\n",
        "#include <omp.h>\n",
        "\n",
        "double calcPi(int num_steps) {\n",
        "    double step;\n",
        "    double x, pi, sum = .0;\n",
        "    step = 1. / (double)num_steps;\n",
        "    for (int i = 0; i < num_steps; ++i) {\n",
        "        x = (i + .5) * step;\n",
        "        sum += 4. / (1 + x*x);\n",
        "    }\n",
        "    pi = sum / num_steps;\n",
        "    return pi;\n",
        "}\n",
        "\n",
        "int main() {\n",
        "    double pi;\n",
        "    double ti = omp_get_wtime();\n",
        "    pi = calcPi(100000);\n",
        "    double et = omp_get_wtime() - ti;\n",
        "    printf(\"Pi = %lf time = %lfs\\n\", pi, et);\n",
        "    return 0;\n",
        "}"
      ],
      "execution_count": 58,
      "outputs": [
        {
          "output_type": "stream",
          "text": [
            "Writing pi0.cpp\n"
          ],
          "name": "stdout"
        }
      ]
    },
    {
      "cell_type": "markdown",
      "metadata": {
        "id": "bV2L9Q-LhC5p"
      },
      "source": [
        "## Parallel v1"
      ]
    },
    {
      "cell_type": "code",
      "metadata": {
        "id": "EZI8dBlTcYQf",
        "outputId": "a8569089-b80b-4bb0-ec9f-4013b3280d32",
        "colab": {
          "base_uri": "https://localhost:8080/",
          "height": 34
        }
      },
      "source": [
        "%%writefile pi1.cpp\n",
        "#include <stdio.h>\n",
        "#include <omp.h>\n",
        "\n",
        "#define NUM_THREADS 2\n",
        "\n",
        "double calcPi(int num_steps) {\n",
        "    double step;\n",
        "    int nthreads;\n",
        "    double pi, sum[NUM_THREADS];\n",
        "    step = 1. / (double)num_steps;\n",
        "    omp_set_num_threads(NUM_THREADS);\n",
        "#pragma omp parallel\n",
        "{\n",
        "    double  x;\n",
        "    int     nthrds = omp_get_num_threads();\n",
        "    int     id = omp_get_thread_num();\n",
        "    if (id == 0) nthreads = nthrds;\n",
        "    sum[id] = 0.0;\n",
        "    for (int i = id; i < num_steps; i+=nthrds) {\n",
        "        x = (i + .5) * step;\n",
        "        sum[id] += 4. / (1 + x*x);\n",
        "    }\n",
        "}\n",
        "    for (int i = 0; i < nthreads; ++i) {\n",
        "        pi += sum[i];\n",
        "    }\n",
        "    return pi / num_steps;\n",
        "}\n",
        "\n",
        "int main() {\n",
        "    double pi;\n",
        "    double ti = omp_get_wtime();\n",
        "    pi = calcPi(100000);\n",
        "    double et = omp_get_wtime() - ti;\n",
        "    printf(\"Pi = %lf time = %lfs\\n\", pi, et);\n",
        "    return 0;\n",
        "}"
      ],
      "execution_count": 59,
      "outputs": [
        {
          "output_type": "stream",
          "text": [
            "Overwriting pi1.cpp\n"
          ],
          "name": "stdout"
        }
      ]
    },
    {
      "cell_type": "markdown",
      "metadata": {
        "id": "ICiXcVfiphG_"
      },
      "source": [
        "## Parallel v2"
      ]
    },
    {
      "cell_type": "code",
      "metadata": {
        "id": "GC6EHt3InmFr",
        "outputId": "6cb80086-1340-4c0f-de9b-483da0fda2ff",
        "colab": {
          "base_uri": "https://localhost:8080/",
          "height": 34
        }
      },
      "source": [
        "%%writefile pi2.cpp\n",
        "#include <stdio.h>\n",
        "#include <omp.h>\n",
        "\n",
        "#define PAD 16\n",
        "#define NUM_THREADS 2\n",
        "\n",
        "double calcPi(int num_steps) {\n",
        "    double step;\n",
        "    int nthreads;\n",
        "    double pi, sum[NUM_THREADS][PAD];\n",
        "    step = 1. / (double)num_steps;\n",
        "    omp_set_num_threads(NUM_THREADS);\n",
        "#pragma omp parallel\n",
        "{\n",
        "    double  x;\n",
        "    int     nthrds = omp_get_num_threads();\n",
        "    int     id = omp_get_thread_num();\n",
        "    if (id == 0) nthreads = nthrds;\n",
        "    sum[id][0] = 0.0;\n",
        "    for (int i = id; i < num_steps; i+=nthrds) {\n",
        "        x = (i + .5) * step;\n",
        "        sum[id][0] += 4. / (1 + x*x);\n",
        "    }\n",
        "}\n",
        "    for (int i = 0; i < nthreads; ++i) {\n",
        "        pi += sum[i][0];\n",
        "    }\n",
        "    return pi / num_steps;\n",
        "}\n",
        "\n",
        "int main() {\n",
        "    double pi;\n",
        "    double ti = omp_get_wtime();\n",
        "    pi = calcPi(100000);\n",
        "    double et = omp_get_wtime() - ti;\n",
        "    printf(\"Pi = %lf time = %lfs\\n\", pi, et);\n",
        "    return 0;\n",
        "}"
      ],
      "execution_count": 60,
      "outputs": [
        {
          "output_type": "stream",
          "text": [
            "Overwriting pi2.cpp\n"
          ],
          "name": "stdout"
        }
      ]
    },
    {
      "cell_type": "markdown",
      "metadata": {
        "id": "maASxiLQpuwn"
      },
      "source": [
        "## Parallel v3"
      ]
    },
    {
      "cell_type": "code",
      "metadata": {
        "id": "m1Hb3H-gpwtv",
        "outputId": "8cb70ed2-c6f0-4102-f0ab-bdc1424c4577",
        "colab": {
          "base_uri": "https://localhost:8080/",
          "height": 34
        }
      },
      "source": [
        "%%writefile pi3.cpp\n",
        "#include <stdio.h>\n",
        "#include <omp.h>\n",
        "\n",
        "#define PAD 16\n",
        "#define NUM_THREADS 2\n",
        "\n",
        "double calcPi(int num_steps) {\n",
        "    double step;\n",
        "    int nthreads;\n",
        "    double pi;\n",
        "    step = 1. / (double)num_steps;\n",
        "    omp_set_num_threads(NUM_THREADS);\n",
        "#pragma omp parallel\n",
        "{\n",
        "    double  x;\n",
        "    int     nthrds = omp_get_num_threads();\n",
        "    int     id = omp_get_thread_num();\n",
        "    double  sum = 0.0;\n",
        "    if (id == 0) nthreads = nthrds;\n",
        "    for (int i = id; i < num_steps; i+=nthrds) {\n",
        "        x = (i + .5) * step;\n",
        "        sum += 4. / (1 + x*x);\n",
        "    }\n",
        "#pragma omp critical\n",
        "    pi += sum;\n",
        "}\n",
        "\n",
        "    return pi / num_steps;\n",
        "}\n",
        "\n",
        "int main() {\n",
        "    double pi;\n",
        "    double ti = omp_get_wtime();\n",
        "    pi = calcPi(100000);\n",
        "    double et = omp_get_wtime() - ti;\n",
        "    printf(\"Pi = %lf time = %lfs\\n\", pi, et);\n",
        "    return 0;\n",
        "}"
      ],
      "execution_count": 61,
      "outputs": [
        {
          "output_type": "stream",
          "text": [
            "Overwriting pi3.cpp\n"
          ],
          "name": "stdout"
        }
      ]
    },
    {
      "cell_type": "markdown",
      "metadata": {
        "id": "_L4vWgMatfse"
      },
      "source": [
        ""
      ]
    },
    {
      "cell_type": "code",
      "metadata": {
        "id": "ztVoRH71thOa",
        "outputId": "500c2ce5-015d-4b26-a61c-5e5f57330d78",
        "colab": {
          "base_uri": "https://localhost:8080/",
          "height": 34
        }
      },
      "source": [
        "%%writefile pi4.cpp\n",
        "#include <stdio.h>\n",
        "#include <omp.h>\n",
        "\n",
        "double calcPi(int num_steps) {\n",
        "    double step;\n",
        "    double x, pi, sum = .0;\n",
        "    step = 1. / (double)num_steps;\n",
        "#pragma omp parallel for private(x) reduction(+:sum)\n",
        "    for (int i = 0; i < num_steps; ++i) {\n",
        "        x = (i + .5) * step;\n",
        "        sum += 4. / (1 + x*x);\n",
        "    }\n",
        "    pi = sum / num_steps;\n",
        "    return pi;\n",
        "}\n",
        "\n",
        "int main() {\n",
        "    double pi;\n",
        "    double ti = omp_get_wtime();\n",
        "    pi = calcPi(100000);\n",
        "    double et = omp_get_wtime() - ti;\n",
        "    printf(\"Pi = %lf time = %lfs\\n\", pi, et);\n",
        "    return 0;\n",
        "}"
      ],
      "execution_count": 73,
      "outputs": [
        {
          "output_type": "stream",
          "text": [
            "Overwriting pi4.cpp\n"
          ],
          "name": "stdout"
        }
      ]
    },
    {
      "cell_type": "code",
      "metadata": {
        "id": "wybQsAOXcRDG",
        "outputId": "32663efe-28fd-4eee-c1aa-e6b6aec478b8",
        "colab": {
          "base_uri": "https://localhost:8080/",
          "height": 101
        }
      },
      "source": [
        "%%script bash\n",
        "g++ -std=c++17 -fopenmp pi0.cpp -o pi0\n",
        "g++ -std=c++17 -fopenmp pi1.cpp -o pi1\n",
        "g++ -std=c++17 -fopenmp pi2.cpp -o pi2\n",
        "g++ -std=c++17 -fopenmp pi3.cpp -o pi3\n",
        "g++ -std=c++17 -fopenmp pi4.cpp -o pi4\n",
        "\n",
        "./pi0\n",
        "./pi1\n",
        "./pi2\n",
        "./pi3\n",
        "./pi4"
      ],
      "execution_count": 74,
      "outputs": [
        {
          "output_type": "stream",
          "text": [
            "Pi = 3.141593 time = 0.001660s\n",
            "Pi = 3.141593 time = 0.001405s\n",
            "Pi = 3.141593 time = 0.001356s\n",
            "Pi = 3.141593 time = 0.001013s\n",
            "Pi = 3.141593 time = 0.000937s\n"
          ],
          "name": "stdout"
        }
      ]
    },
    {
      "cell_type": "code",
      "metadata": {
        "id": "7OitZN43hli4"
      },
      "source": [
        ""
      ],
      "execution_count": 22,
      "outputs": []
    }
  ]
}