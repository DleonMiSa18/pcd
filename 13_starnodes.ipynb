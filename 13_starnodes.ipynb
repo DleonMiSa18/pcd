{
  "nbformat": 4,
  "nbformat_minor": 0,
  "metadata": {
    "colab": {
      "name": "13-starnodes.ipynb",
      "provenance": [],
      "authorship_tag": "ABX9TyNakoHprcHVsBlMW3TgsJ0n",
      "include_colab_link": true
    },
    "kernelspec": {
      "name": "python3",
      "display_name": "Python 3"
    }
  },
  "cells": [
    {
      "cell_type": "markdown",
      "metadata": {
        "id": "view-in-github",
        "colab_type": "text"
      },
      "source": [
        "<a href=\"https://colab.research.google.com/github/pcsilcan/pcd/blob/master/13_starnodes.ipynb\" target=\"_parent\"><img src=\"https://colab.research.google.com/assets/colab-badge.svg\" alt=\"Open In Colab\"/></a>"
      ]
    },
    {
      "cell_type": "code",
      "metadata": {
        "id": "YcDo8WOAzEuv",
        "colab_type": "code",
        "colab": {}
      },
      "source": [
        "!apt install golang-go"
      ],
      "execution_count": 0,
      "outputs": []
    },
    {
      "cell_type": "code",
      "metadata": {
        "id": "Esf0gcJPzaqE",
        "colab_type": "code",
        "colab": {
          "base_uri": "https://localhost:8080/",
          "height": 34
        },
        "outputId": "07b9fc51-e7ee-48b6-e578-f2a0ff1a99f9"
      },
      "source": [
        "!go version"
      ],
      "execution_count": 2,
      "outputs": [
        {
          "output_type": "stream",
          "text": [
            "go version go1.10.4 linux/amd64\n"
          ],
          "name": "stdout"
        }
      ]
    },
    {
      "cell_type": "code",
      "metadata": {
        "id": "MDzaKG5xzvXQ",
        "colab_type": "code",
        "colab": {
          "base_uri": "https://localhost:8080/",
          "height": 34
        },
        "outputId": "7ebdb354-f412-456b-cf39-5a91cec617e2"
      },
      "source": [
        "%%writefile serv.go\n",
        "package main\n",
        "\n",
        "import (\n",
        "    \"encoding/json\"\n",
        "    \"fmt\"\n",
        "    \"net\"\n",
        ")\n",
        "\n",
        "func main() {\n",
        "    ln, _ := net.Listen(\"tcp\", \"localhost:8500\")\n",
        "    defer ln.Close()\n",
        "    conn, _ := ln.Accept()\n",
        "    handle(conn)\n",
        "}\n",
        "\n",
        "func handle(conn net.Conn) {\n",
        "    defer conn.Close()\n",
        "    dec := json.NewDecoder(conn)\n",
        "    var msg []string\n",
        "    _ = dec.Decode(&msg)\n",
        "    fmt.Println(msg)\n",
        "}"
      ],
      "execution_count": 47,
      "outputs": [
        {
          "output_type": "stream",
          "text": [
            "Overwriting serv.go\n"
          ],
          "name": "stdout"
        }
      ]
    },
    {
      "cell_type": "code",
      "metadata": {
        "id": "w0AuJwBDzzef",
        "colab_type": "code",
        "colab": {
          "base_uri": "https://localhost:8080/",
          "height": 34
        },
        "outputId": "0b22bc37-e59b-41b8-9efc-a52f1be46531"
      },
      "source": [
        "%%writefile cli.go\n",
        "package main\n",
        "\n",
        "import (\n",
        "    \"encoding/json\"\n",
        "    \"net\"\n",
        ")\n",
        "\n",
        "func main() {\n",
        "    conn, _ := net.Dial(\"tcp\", \"localhost:8500\")\n",
        "    defer conn.Close()\n",
        "    enc := json.NewEncoder(conn)\n",
        "    msg := []string{\"hola\", \"mundo\"}\n",
        "    enc.Encode(&msg)\n",
        "}\n"
      ],
      "execution_count": 46,
      "outputs": [
        {
          "output_type": "stream",
          "text": [
            "Overwriting cli.go\n"
          ],
          "name": "stdout"
        }
      ]
    },
    {
      "cell_type": "code",
      "metadata": {
        "id": "FwHOgRZ41W7k",
        "colab_type": "code",
        "colab": {
          "base_uri": "https://localhost:8080/",
          "height": 34
        },
        "outputId": "190f6369-6d69-459d-c47c-8ae68780c870"
      },
      "source": [
        "%%script bash\n",
        "go run serv.go &\n",
        "sleep 1\n",
        "go run cli.go &\n",
        "sleep 1"
      ],
      "execution_count": 48,
      "outputs": [
        {
          "output_type": "stream",
          "text": [
            "[hola mundo]\n"
          ],
          "name": "stdout"
        }
      ]
    },
    {
      "cell_type": "code",
      "metadata": {
        "id": "y6rZTjmL3UCW",
        "colab_type": "code",
        "colab": {
          "base_uri": "https://localhost:8080/",
          "height": 353
        },
        "outputId": "44d95989-a6c4-4880-8d18-dcd30dda4095"
      },
      "source": [
        "%%script bash\n",
        "\n",
        "function cosita {\n",
        "    for i in {1..10}; do\n",
        "        echo \"${1} $i\"\n",
        "        sleep 1\n",
        "    done\n",
        "}\n",
        "\n",
        "cosita hola &\n",
        "cosita chao &"
      ],
      "execution_count": 16,
      "outputs": [
        {
          "output_type": "stream",
          "text": [
            "hola 1\n",
            "chao 1\n",
            "hola 2\n",
            "chao 2\n",
            "hola 3\n",
            "chao 3\n",
            "hola 4\n",
            "chao 4\n",
            "hola 5\n",
            "chao 5\n",
            "hola 6\n",
            "chao 6\n",
            "chao 7\n",
            "hola 7\n",
            "chao 8\n",
            "hola 8\n",
            "hola 9\n",
            "chao 9\n",
            "hola 10\n",
            "chao 10\n"
          ],
          "name": "stdout"
        }
      ]
    },
    {
      "cell_type": "code",
      "metadata": {
        "id": "dpPzF6FY1mtM",
        "colab_type": "code",
        "colab": {
          "base_uri": "https://localhost:8080/",
          "height": 34
        },
        "outputId": "e79b1913-825f-46a5-8f5a-879b35f16113"
      },
      "source": [
        "%%writefile cmdlineargs.go\n",
        "package main\n",
        "\n",
        "import (\n",
        "    \"fmt\"\n",
        "    \"os\"\n",
        ")\n",
        "\n",
        "func main() {\n",
        "    for i, arg := range os.Args {\n",
        "        fmt.Println(i, arg)\n",
        "    }\n",
        "}"
      ],
      "execution_count": 89,
      "outputs": [
        {
          "output_type": "stream",
          "text": [
            "Overwriting cmdlineargs.go\n"
          ],
          "name": "stdout"
        }
      ]
    },
    {
      "cell_type": "code",
      "metadata": {
        "id": "RhDwcZ6R20GI",
        "colab_type": "code",
        "colab": {
          "base_uri": "https://localhost:8080/",
          "height": 151
        },
        "outputId": "3b03c9c8-ec6e-4c95-d0cd-9e1fce1abfda"
      },
      "source": [
        "!go run cmdlineargs.go hola mundo estos son \\\n",
        "                       parametros localhost:6000 \"1 2 3\""
      ],
      "execution_count": 90,
      "outputs": [
        {
          "output_type": "stream",
          "text": [
            "0 /tmp/go-build004212734/b001/exe/cmdlineargs\n",
            "1 hola\n",
            "2 mundo\n",
            "3 estos\n",
            "4 son\n",
            "5 parametros\n",
            "6 localhost:6000\n",
            "7 1 2 3\n"
          ],
          "name": "stdout"
        }
      ]
    },
    {
      "cell_type": "code",
      "metadata": {
        "id": "V18VqJYt25ks",
        "colab_type": "code",
        "colab": {
          "base_uri": "https://localhost:8080/",
          "height": 34
        },
        "outputId": "4261f9af-e65a-424c-f9fd-a71eca9baa76"
      },
      "source": [
        "%%writefile nodo.go\n",
        "package main\n",
        "\n",
        "import (\n",
        "    \"encoding/json\"\n",
        "    \"fmt\"\n",
        "    \"net\"\n",
        "    \"os\"\n",
        ")\n",
        "\n",
        "type Msg struct {\n",
        "    Command     string\n",
        "    Hostname    string\n",
        "    List        []string\n",
        "}\n",
        "\n",
        "var friends []string\n",
        "var local   string\n",
        "var end     chan bool\n",
        "\n",
        "func serv() {\n",
        "    fmt.Println(\"(\", local, \")\")\n",
        "    ln, _ := net.Listen(\"tcp\", local)\n",
        "    defer ln.Close()\n",
        "    for {\n",
        "        conn, _ := ln.Accept()\n",
        "        go handle(conn)\n",
        "    }\n",
        "}\n",
        "func handle(conn net.Conn) {\n",
        "    defer conn.Close()\n",
        "    dec := json.NewDecoder(conn)\n",
        "    var msg Msg\n",
        "    if err := dec.Decode(&msg); err == nil {\n",
        "        switch msg.Command {\n",
        "        case \"hello\":\n",
        "            resp := Msg{\"hey\", local, friends}\n",
        "            enc := json.NewEncoder(conn)\n",
        "            if err := enc.Encode(&resp); err == nil {\n",
        "                for _, friend := range friends {\n",
        "                    fmt.Println(local, \"introduces\", msg.Hostname,\n",
        "                                \"to\", friend)\n",
        "                    send(friend, \"meet new friend\", []string{msg.Hostname})\n",
        "                }\n",
        "            }\n",
        "            friends = append(friends, msg.Hostname)\n",
        "            fmt.Println(local, \"updated list\", friends)\n",
        "        case \"meet new friend\":\n",
        "            friends = append(friends, msg.List...)\n",
        "            fmt.Println(local, \"new friend\", msg.List)\n",
        "        case \"finish\":\n",
        "            end<-true\n",
        "        }\n",
        "    }\n",
        "}\n",
        "func send(remote, command string, list []string) {\n",
        "    conn, _ := net.Dial(\"tcp\", remote)\n",
        "    defer conn.Close()\n",
        "    msg := Msg{command, local, list}\n",
        "    enc := json.NewEncoder(conn)\n",
        "    if err := enc.Encode(&msg); err == nil {\n",
        "        fmt.Println(local, \"sent\", msg)\n",
        "        if command == \"hello\" {\n",
        "            dec := json.NewDecoder(conn)\n",
        "            var resp Msg\n",
        "            if err := dec.Decode(&resp); err == nil {\n",
        "                friends = append(friends, resp.List...)\n",
        "                fmt.Println(local, \"recibí\", resp.List)\n",
        "            }\n",
        "        }\n",
        "    }\n",
        "}\n",
        "func main() {\n",
        "    end = make(chan bool)\n",
        "    local = os.Args[1]\n",
        "    go serv()\n",
        "    if len(os.Args) == 3 {\n",
        "        remote := os.Args[2]\n",
        "        friends = append(friends, os.Args[2])\n",
        "        send(remote, \"hello\", []string{})\n",
        "    }\n",
        "    <-end\n",
        "}"
      ],
      "execution_count": 77,
      "outputs": [
        {
          "output_type": "stream",
          "text": [
            "Overwriting nodo.go\n"
          ],
          "name": "stdout"
        }
      ]
    },
    {
      "cell_type": "code",
      "metadata": {
        "id": "LMtRMElX85b2",
        "colab_type": "code",
        "colab": {
          "base_uri": "https://localhost:8080/",
          "height": 50
        },
        "outputId": "b1090a9f-4a8a-47f0-87f4-ddb29d9c5a68"
      },
      "source": [
        "!go build nodo.go"
      ],
      "execution_count": 78,
      "outputs": [
        {
          "output_type": "stream",
          "text": [
            "# command-line-arguments\n",
            "./nodo.go:48:29: cannot use msg.List (type []string) as type string in append\n"
          ],
          "name": "stdout"
        }
      ]
    },
    {
      "cell_type": "code",
      "metadata": {
        "id": "m9UybBNa9lGM",
        "colab_type": "code",
        "colab": {
          "base_uri": "https://localhost:8080/",
          "height": 34
        },
        "outputId": "e3536bd7-4f1b-4788-c40c-a13faf84d9b4"
      },
      "source": [
        "%%writefile nodekiller.go\n",
        "package main\n",
        "\n",
        "import (\n",
        "    \"encoding/json\"\n",
        "    \"fmt\"\n",
        "    \"net\"\n",
        "    \"os\"\n",
        ")\n",
        "\n",
        "type Msg struct {\n",
        "    Command string\n",
        "    Hostname string\n",
        "    List []string\n",
        "}\n",
        "\n",
        "func send(remote, command string, list []string) {\n",
        "    conn, _ := net.Dial(\"tcp\", remote)\n",
        "    defer conn.Close()\n",
        "    msg := Msg{command, \"\", list}\n",
        "    enc := json.NewEncoder(conn)\n",
        "    if err := enc.Encode(&msg); err == nil {\n",
        "        fmt.Println(\"killing\", remote)\n",
        "    }\n",
        "}\n",
        "\n",
        "func main() {\n",
        "    for _, remote := range os.Args[1:] {\n",
        "        send(remote, \"finish\", []string{})\n",
        "    }\n",
        "}"
      ],
      "execution_count": 53,
      "outputs": [
        {
          "output_type": "stream",
          "text": [
            "Overwriting nodekiller.go\n"
          ],
          "name": "stdout"
        }
      ]
    },
    {
      "cell_type": "code",
      "metadata": {
        "id": "DSV5MDVQ-V4s",
        "colab_type": "code",
        "colab": {}
      },
      "source": [
        "!go build nodekiller.go"
      ],
      "execution_count": 0,
      "outputs": []
    },
    {
      "cell_type": "code",
      "metadata": {
        "id": "bCkFobPA_7sx",
        "colab_type": "code",
        "colab": {
          "base_uri": "https://localhost:8080/",
          "height": 50
        },
        "outputId": "51b3c2c1-fffe-4e48-a0b4-1af38c753b04"
      },
      "source": [
        "%%script bash\n",
        "\n",
        "./nodo localhost:8100 &\n",
        "sleep 1\n",
        "./nodekiller localhost:8100"
      ],
      "execution_count": 56,
      "outputs": [
        {
          "output_type": "stream",
          "text": [
            "( localhost:8100 )\n",
            "killing localhost:8100\n"
          ],
          "name": "stdout"
        }
      ]
    },
    {
      "cell_type": "code",
      "metadata": {
        "id": "k9woDnRYBVym",
        "colab_type": "code",
        "colab": {
          "base_uri": "https://localhost:8080/",
          "height": 171
        },
        "outputId": "c60c3ee0-cd72-470b-f7c2-96404d7fbbfd"
      },
      "source": [
        "%%script bash\n",
        "#kill -9 2607\n",
        "\n",
        "ps ax"
      ],
      "execution_count": 65,
      "outputs": [
        {
          "output_type": "stream",
          "text": [
            "    PID TTY      STAT   TIME COMMAND\n",
            "      1 ?        Ss     0:00 /bin/bash -e /datalab/run.sh\n",
            "      8 ?        Sl     0:07 /tools/node/bin/node /datalab/web/app.js\n",
            "     18 ?        Sl     0:13 /usr/bin/python2 /usr/local/bin/jupyter-notebook --ip=\"172.28.0.2\" --port=9000 --FileContentsManager.root_dir=\"/\" --MappingKernelManager.root_dir=\"/content\"\n",
            "    115 ?        Ss     0:00 tail -n +0 -F /root/.config/Google/DriveFS/Logs/drive_fs.txt\n",
            "    123 ?        Ssl    0:14 /usr/bin/python3 -m ipykernel_launcher -f /root/.local/share/jupyter/runtime/kernel-f8e8c835-15a6-4a71-9466-774c5fa0be59.json\n",
            "   3488 ?        S      0:00 bash\n",
            "   3489 ?        R      0:00 ps ax\n"
          ],
          "name": "stdout"
        }
      ]
    },
    {
      "cell_type": "code",
      "metadata": {
        "id": "ORK-NjfG87Yy",
        "colab_type": "code",
        "colab": {
          "base_uri": "https://localhost:8080/",
          "height": 994
        },
        "outputId": "1a5a426d-863c-4f00-b46d-f1150bae57ba"
      },
      "source": [
        "%%script bash\n",
        "\n",
        "./nodo localhost:8000 &\n",
        "sleep 2\n",
        "./nodo localhost:8001 localhost:8000 &\n",
        "sleep 2\n",
        "./nodo localhost:8002 localhost:8000 &\n",
        "sleep 2\n",
        "./nodo localhost:8003 localhost:8002 &\n",
        "sleep 2\n",
        "./nodo localhost:8004 localhost:8001 &\n",
        "sleep 2\n",
        "./nodo localhost:8005 localhost:8003 &\n",
        "\n",
        "sleep 2\n",
        "\n",
        "./nodekiller localhost:8000 \\\n",
        "             localhost:8001 \\\n",
        "             localhost:8002 \\\n",
        "             localhost:8003 \\\n",
        "             localhost:8004 \\\n",
        "             localhost:8005\n"
      ],
      "execution_count": 76,
      "outputs": [
        {
          "output_type": "stream",
          "text": [
            "( localhost:8000 )\n",
            "( localhost:8001 )\n",
            "localhost:8001 sent {hello localhost:8001 []}\n",
            "localhost:8000 updated list [localhost:8001]\n",
            "localhost:8001 recibí []\n",
            "( localhost:8002 )\n",
            "localhost:8000 introduces localhost:8002 to localhost:8001\n",
            "localhost:8000 sent {meet new friend localhost:8000 [localhost:8002]}\n",
            "localhost:8000 updated list [localhost:8001 localhost:8002]\n",
            "localhost:8002 sent {hello localhost:8002 []}\n",
            "localhost:8001 new friend [localhost:8002]\n",
            "localhost:8002 recibí [localhost:8001]\n",
            "( localhost:8003 )\n",
            "localhost:8003 sent {hello localhost:8003 []}\n",
            "localhost:8002 introduces localhost:8003 to localhost:8000\n",
            "localhost:8003 recibí [localhost:8000 localhost:8001]\n",
            "localhost:8002 sent {meet new friend localhost:8002 [localhost:8003]}\n",
            "localhost:8000 new friend [localhost:8003]\n",
            "localhost:8002 introduces localhost:8003 to localhost:8001\n",
            "localhost:8002 sent {meet new friend localhost:8002 [localhost:8003]}\n",
            "localhost:8002 updated list [localhost:8000 localhost:8001 localhost:8003]\n",
            "localhost:8001 new friend [localhost:8003]\n",
            "( localhost:8004 )\n",
            "localhost:8004 sent {hello localhost:8004 []}\n",
            "localhost:8001 introduces localhost:8004 to localhost:8000\n",
            "localhost:8004 recibí [localhost:8000 localhost:8002 localhost:8003]\n",
            "localhost:8001 sent {meet new friend localhost:8001 [localhost:8004]}\n",
            "localhost:8001 introduces localhost:8004 to localhost:8002\n",
            "localhost:8000 new friend [localhost:8004]\n",
            "localhost:8001 sent {meet new friend localhost:8001 [localhost:8004]}\n",
            "localhost:8001 introduces localhost:8004 to localhost:8003\n",
            "localhost:8002 new friend [localhost:8004]\n",
            "localhost:8001 sent {meet new friend localhost:8001 [localhost:8004]}\n",
            "localhost:8001 updated list [localhost:8000 localhost:8002 localhost:8003 localhost:8004]\n",
            "localhost:8003 new friend [localhost:8004]\n",
            "( localhost:8005 )\n",
            "localhost:8005 sent {hello localhost:8005 []}\n",
            "localhost:8003 introduces localhost:8005 to localhost:8002\n",
            "localhost:8005 recibí [localhost:8002 localhost:8000 localhost:8001 localhost:8004]\n",
            "localhost:8003 sent {meet new friend localhost:8003 [localhost:8005]}\n",
            "localhost:8003 introduces localhost:8005 to localhost:8000\n",
            "localhost:8002 new friend [localhost:8005]\n",
            "localhost:8003 sent {meet new friend localhost:8003 [localhost:8005]}\n",
            "localhost:8003 introduces localhost:8005 to localhost:8001\n",
            "localhost:8000 new friend [localhost:8005]\n",
            "localhost:8003 sent {meet new friend localhost:8003 [localhost:8005]}\n",
            "localhost:8003 introduces localhost:8005 to localhost:8004\n",
            "localhost:8001 new friend [localhost:8005]\n",
            "localhost:8003 sent {meet new friend localhost:8003 [localhost:8005]}\n",
            "localhost:8003 updated list [localhost:8002 localhost:8000 localhost:8001 localhost:8004 localhost:8005]\n",
            "localhost:8004 new friend [localhost:8005]\n",
            "killing localhost:8000\n",
            "killing localhost:8001\n",
            "killing localhost:8002\n",
            "killing localhost:8003\n",
            "killing localhost:8004\n",
            "killing localhost:8005\n"
          ],
          "name": "stdout"
        }
      ]
    },
    {
      "cell_type": "code",
      "metadata": {
        "id": "XpfmIjo6-3ps",
        "colab_type": "code",
        "colab": {}
      },
      "source": [
        ""
      ],
      "execution_count": 0,
      "outputs": []
    }
  ]
}