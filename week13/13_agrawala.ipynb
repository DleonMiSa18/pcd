{
  "nbformat": 4,
  "nbformat_minor": 0,
  "metadata": {
    "colab": {
      "name": "13-agrawala.ipynb",
      "provenance": [],
      "collapsed_sections": [],
      "authorship_tag": "ABX9TyMiQoQZwRCjxkoqsPLQ7G0o",
      "include_colab_link": true
    },
    "kernelspec": {
      "name": "python3",
      "display_name": "Python 3"
    }
  },
  "cells": [
    {
      "cell_type": "markdown",
      "metadata": {
        "id": "view-in-github",
        "colab_type": "text"
      },
      "source": [
        "<a href=\"https://colab.research.google.com/github/pcsilcan/pcd/blob/master/week13/13_agrawala.ipynb\" target=\"_parent\"><img src=\"https://colab.research.google.com/assets/colab-badge.svg\" alt=\"Open In Colab\"/></a>"
      ]
    },
    {
      "cell_type": "code",
      "metadata": {
        "id": "YcDo8WOAzEuv",
        "colab_type": "code",
        "colab": {}
      },
      "source": [
        "!apt install golang-go"
      ],
      "execution_count": null,
      "outputs": []
    },
    {
      "cell_type": "code",
      "metadata": {
        "id": "Esf0gcJPzaqE",
        "colab_type": "code",
        "colab": {
          "base_uri": "https://localhost:8080/",
          "height": 34
        },
        "outputId": "cd03310a-94cc-4abf-c122-6df333fe90c6"
      },
      "source": [
        "!go version"
      ],
      "execution_count": null,
      "outputs": [
        {
          "output_type": "stream",
          "text": [
            "go version go1.10.4 linux/amd64\n"
          ],
          "name": "stdout"
        }
      ]
    },
    {
      "cell_type": "code",
      "metadata": {
        "id": "V18VqJYt25ks",
        "colab_type": "code",
        "colab": {
          "base_uri": "https://localhost:8080/",
          "height": 34
        },
        "outputId": "67d878f4-1089-42bb-c2f9-c391b735b9ec"
      },
      "source": [
        "%%writefile nodo.go\n",
        "package main\n",
        "\n",
        "import (\n",
        "    \"encoding/json\"\n",
        "    \"fmt\"\n",
        "    \"math/rand\"\n",
        "    \"net\"\n",
        "    \"os\"\n",
        "    \"strconv\"\n",
        "    \"time\"\n",
        ")\n",
        "\n",
        "type Msg struct {\n",
        "    Command     string\n",
        "    Hostname    string\n",
        "    List        []string\n",
        "}\n",
        "\n",
        "var friends []string\n",
        "var local   string\n",
        "var end     chan bool\n",
        "\n",
        "var cont    int\n",
        "var mynum   int\n",
        "var nextnum int\n",
        "var next    string\n",
        "var imfirst bool\n",
        "var ready   chan bool\n",
        "var yach    chan bool\n",
        "\n",
        "func serv() {\n",
        "    fmt.Println(\"(\", local, \")\")\n",
        "    ln, _ := net.Listen(\"tcp\", local)\n",
        "    defer ln.Close()\n",
        "    for {\n",
        "        conn, _ := ln.Accept()\n",
        "        go handle(conn)\n",
        "    }\n",
        "}\n",
        "func handle(conn net.Conn) {\n",
        "    defer conn.Close()\n",
        "    dec := json.NewDecoder(conn)\n",
        "    var msg Msg\n",
        "    if err := dec.Decode(&msg); err == nil {\n",
        "        switch msg.Command {\n",
        "        case \"hello\":\n",
        "            resp := Msg{\"hey\", local, friends}\n",
        "            enc := json.NewEncoder(conn)\n",
        "            if err := enc.Encode(&resp); err == nil {\n",
        "                for _, friend := range friends {\n",
        "                    fmt.Println(local, \"introduces\", msg.Hostname,\n",
        "                                \"to\", friend)\n",
        "                    send(friend, \"meet new friend\", []string{msg.Hostname})\n",
        "                }\n",
        "            }\n",
        "            friends = append(friends, msg.Hostname)\n",
        "            fmt.Println(local, \"updated list\", friends)\n",
        "        case \"meet new friend\":\n",
        "            friends = append(friends, msg.List...)\n",
        "            fmt.Println(local, \"new friend\", msg.List)\n",
        "        \n",
        "        case \"start agrawala\":\n",
        "            mynum   = rand.Intn(100000)\n",
        "            nextnum = 100001\n",
        "            imfirst = true\n",
        "            next    = \"\"\n",
        "            cont    = 0\n",
        "            for _, friend := range friends {\n",
        "                fmt.Println(local, \"sending\", mynum, \"to\", friend)\n",
        "                send(friend, \"num\", []string{strconv.Itoa(mynum)})\n",
        "            }\n",
        "            // TODO optimize this\n",
        "            if len(friends) == 0 {\n",
        "                go distributedCriticalSection()\n",
        "                ready<-true\n",
        "            }\n",
        "            yach<-true\n",
        "        case \"num\":\n",
        "            <-yach\n",
        "            newnum, _ := strconv.Atoi(msg.List[0])\n",
        "            fmt.Println(local, cont, newnum, nextnum, next)\n",
        "            if newnum > mynum && newnum < nextnum {\n",
        "                nextnum = newnum\n",
        "                next = msg.Hostname\n",
        "            } else {\n",
        "                imfirst = false\n",
        "            }\n",
        "            cont++\n",
        "            fmt.Println(local, cont, newnum, nextnum, next)\n",
        "            if cont == len(friends) {\n",
        "                if imfirst {\n",
        "                    fmt.Println(local, \"I'm first\")\n",
        "                    go distributedCriticalSection()\n",
        "                }\n",
        "                ready<-true\n",
        "            } else {\n",
        "                yach<-true\n",
        "            }\n",
        "        case \"you can start\":\n",
        "            go distributedCriticalSection()\n",
        "        \n",
        "        case \"finish\":\n",
        "            fmt.Println(local, \"that's  all folks\")\n",
        "            end<-true\n",
        "        }\n",
        "    }\n",
        "}\n",
        "func send(remote, command string, list []string) {\n",
        "    conn, _ := net.Dial(\"tcp\", remote)\n",
        "    defer conn.Close()\n",
        "    msg := Msg{command, local, list}\n",
        "    enc := json.NewEncoder(conn)\n",
        "    if err := enc.Encode(&msg); err == nil {\n",
        "        fmt.Println(local, \"sent\", msg)\n",
        "        if command == \"hello\" {\n",
        "            dec := json.NewDecoder(conn)\n",
        "            var resp Msg\n",
        "            if err := dec.Decode(&resp); err == nil {\n",
        "                friends = append(friends, resp.List...)\n",
        "                fmt.Println(local, \"recibí\", resp.List)\n",
        "            }\n",
        "        }\n",
        "    }\n",
        "}\n",
        "func distributedCriticalSection() {\n",
        "    <-ready\n",
        "    fmt.Println(local, \"Haciendo sección crítica!!(1)\")\n",
        "    fmt.Println(local, \"Haciendo sección crítica!!(2)\")\n",
        "    fmt.Println(local, \"Haciendo sección crítica!!(3)\")\n",
        "    fmt.Println(local, \"Haciendo sección crítica!!(4)\")\n",
        "    fmt.Println(local, \"Haciendo sección crítica!!(5)\")\n",
        "    if next != \"\" {\n",
        "        send(next, \"you can start\", []string{})\n",
        "    } else {\n",
        "        for _, friend := range friends {\n",
        "            send(friend, \"finish\", []string{})\n",
        "        }\n",
        "        fmt.Println(local, \"I've seen things you woudln't believe\")\n",
        "        end<-true\n",
        "    }\n",
        "}\n",
        "func main() {\n",
        "    rand.Seed(time.Now().UTC().UnixNano())\n",
        "    end     = make(chan bool)\n",
        "    ready   = make(chan bool)\n",
        "    yach    = make(chan bool, 1)\n",
        "    local   = os.Args[1]\n",
        "    go serv()\n",
        "    if len(os.Args) == 3 {\n",
        "        remote := os.Args[2]\n",
        "        friends = append(friends, os.Args[2])\n",
        "        send(remote, \"hello\", []string{})\n",
        "    }\n",
        "    go func() {\n",
        "        time.Sleep(time.Second*20)\n",
        "        fmt.Println(local, \"executing fail safe\")\n",
        "        end<-true\n",
        "    }()\n",
        "    <-end\n",
        "    fmt.Println(local, \"time to die\")\n",
        "}"
      ],
      "execution_count": 2,
      "outputs": [
        {
          "output_type": "stream",
          "text": [
            "Writing nodo.go\n"
          ],
          "name": "stdout"
        }
      ]
    },
    {
      "cell_type": "code",
      "metadata": {
        "id": "LMtRMElX85b2",
        "colab_type": "code",
        "colab": {}
      },
      "source": [
        "!go build nodo.go"
      ],
      "execution_count": 3,
      "outputs": []
    },
    {
      "cell_type": "code",
      "metadata": {
        "id": "m9UybBNa9lGM",
        "colab_type": "code",
        "colab": {
          "base_uri": "https://localhost:8080/",
          "height": 34
        },
        "outputId": "1478d931-03f5-4732-bb9e-46216ac63e80"
      },
      "source": [
        "%%writefile agrawalastarter.go\n",
        "package main\n",
        "\n",
        "import (\n",
        "    \"encoding/json\"\n",
        "    \"fmt\"\n",
        "    \"net\"\n",
        "    \"os\"\n",
        ")\n",
        "\n",
        "type Msg struct {\n",
        "    Command string\n",
        "    Hostname string\n",
        "    List []string\n",
        "}\n",
        "\n",
        "func send(remote, command string, list []string) {\n",
        "    conn, _ := net.Dial(\"tcp\", remote)\n",
        "    defer conn.Close()\n",
        "    msg := Msg{command, \"\", list}\n",
        "    enc := json.NewEncoder(conn)\n",
        "    if err := enc.Encode(&msg); err == nil {\n",
        "        fmt.Println(\"starting\", remote)\n",
        "    }\n",
        "}\n",
        "\n",
        "func main() {\n",
        "    for _, remote := range os.Args[1:] {\n",
        "        send(remote, \"start agrawala\", []string{})\n",
        "    }\n",
        "}"
      ],
      "execution_count": 4,
      "outputs": [
        {
          "output_type": "stream",
          "text": [
            "Writing agrawalastarter.go\n"
          ],
          "name": "stdout"
        }
      ]
    },
    {
      "cell_type": "code",
      "metadata": {
        "id": "DSV5MDVQ-V4s",
        "colab_type": "code",
        "colab": {}
      },
      "source": [
        "!go build agrawalastarter.go"
      ],
      "execution_count": 6,
      "outputs": []
    },
    {
      "cell_type": "code",
      "metadata": {
        "id": "pSfGydzshmAH",
        "colab_type": "code",
        "colab": {
          "base_uri": "https://localhost:8080/",
          "height": 554
        },
        "outputId": "372697a8-33b2-47f9-dd5d-7a24bac67525"
      },
      "source": [
        "%%script bash\n",
        "\n",
        "./nodo localhost:8000 &\n",
        "sleep 1\n",
        "./nodo localhost:8001 localhost:8000 &\n",
        "sleep 1\n",
        "\n",
        "./agrawalastarter   localhost:8000 \\\n",
        "                    localhost:8001\n"
      ],
      "execution_count": 7,
      "outputs": [
        {
          "output_type": "stream",
          "text": [
            "( localhost:8000 )\n",
            "( localhost:8001 )\n",
            "localhost:8000 updated list [localhost:8001]\n",
            "localhost:8001 sent {hello localhost:8001 []}\n",
            "localhost:8001 recibí []\n",
            "starting localhost:8000\n",
            "localhost:8000 sending 81832 to localhost:8001\n",
            "localhost:8000 sent {num localhost:8000 [81832]}\n",
            "starting localhost:8001\n",
            "localhost:8001 sending 70002 to localhost:8000\n",
            "localhost:8001 sent {num localhost:8001 [70002]}\n",
            "localhost:8000 0 70002 100001 \n",
            "localhost:8000 1 70002 100001 \n",
            "localhost:8001 0 81832 100001 \n",
            "localhost:8001 1 81832 81832 localhost:8000\n",
            "localhost:8001 I'm first\n",
            "localhost:8001 Haciendo sección crítica!!(1)\n",
            "localhost:8001 Haciendo sección crítica!!(2)\n",
            "localhost:8001 Haciendo sección crítica!!(3)\n",
            "localhost:8001 Haciendo sección crítica!!(4)\n",
            "localhost:8001 Haciendo sección crítica!!(5)\n",
            "localhost:8001 sent {you can start localhost:8001 []}\n",
            "localhost:8000 Haciendo sección crítica!!(1)\n",
            "localhost:8000 Haciendo sección crítica!!(2)\n",
            "localhost:8000 Haciendo sección crítica!!(3)\n",
            "localhost:8000 Haciendo sección crítica!!(4)\n",
            "localhost:8000 Haciendo sección crítica!!(5)\n",
            "localhost:8000 sent {finish localhost:8000 []}\n",
            "localhost:8000 I've seen things you woudln't believe\n",
            "localhost:8000 time to die\n",
            "localhost:8001 that's  all folks\n",
            "localhost:8001 time to die\n"
          ],
          "name": "stdout"
        }
      ]
    },
    {
      "cell_type": "code",
      "metadata": {
        "id": "ORK-NjfG87Yy",
        "colab_type": "code",
        "colab": {
          "base_uri": "https://localhost:8080/",
          "height": 773
        },
        "outputId": "0aa558e2-b18d-4adf-d5b9-2073d5ab899f"
      },
      "source": [
        "%%script bash\n",
        "\n",
        "./nodo localhost:8000 &\n",
        "sleep 1\n",
        "./nodo localhost:8001 localhost:8000 &\n",
        "sleep 1\n",
        "./nodo localhost:8002 localhost:8000 &\n",
        "sleep 1\n",
        "#./nodo localhost:8003 localhost:8002 &\n",
        "#sleep 1\n",
        "#./nodo localhost:8004 localhost:8001 &\n",
        "#sleep 1\n",
        "#./nodo localhost:8005 localhost:8003 &\n",
        "#sleep 1\n",
        "\n",
        "./agrawalastarter   localhost:8000 \\\n",
        "                    localhost:8001 \\\n",
        "                    localhost:8002\n",
        " #                   localhost:8003 \\\n",
        " #                   localhost:8004 \\\n",
        " #                   localhost:8005\n"
      ],
      "execution_count": 8,
      "outputs": [
        {
          "output_type": "stream",
          "text": [
            "( localhost:8000 )\n",
            "( localhost:8001 )\n",
            "localhost:8000 updated list [localhost:8001]\n",
            "localhost:8001 sent {hello localhost:8001 []}\n",
            "localhost:8001 recibí []\n",
            "( localhost:8002 )\n",
            "localhost:8002 sent {hello localhost:8002 []}\n",
            "localhost:8000 introduces localhost:8002 to localhost:8001\n",
            "localhost:8002 recibí [localhost:8001]\n",
            "localhost:8000 sent {meet new friend localhost:8000 [localhost:8002]}\n",
            "localhost:8000 updated list [localhost:8001 localhost:8002]\n",
            "localhost:8001 new friend [localhost:8002]\n",
            "starting localhost:8000\n",
            "localhost:8000 sending 61201 to localhost:8001\n",
            "localhost:8000 sent {num localhost:8000 [61201]}\n",
            "localhost:8000 sending 61201 to localhost:8002\n",
            "localhost:8000 sent {num localhost:8000 [61201]}\n",
            "starting localhost:8001\n",
            "localhost:8001 sending 31093 to localhost:8000\n",
            "localhost:8001 sent {num localhost:8001 [31093]}\n",
            "localhost:8001 sending 31093 to localhost:8002\n",
            "localhost:8002 sending 66809 to localhost:8000\n",
            "localhost:8001 sent {num localhost:8001 [31093]}\n",
            "localhost:8002 sent {num localhost:8002 [66809]}\n",
            "localhost:8001 0 61201 100001 \n",
            "localhost:8001 1 61201 61201 localhost:8000\n",
            "localhost:8002 sending 66809 to localhost:8001\n",
            "localhost:8000 0 66809 100001 \n",
            "localhost:8000 1 66809 66809 localhost:8002\n",
            "localhost:8002 sent {num localhost:8002 [66809]}\n",
            "localhost:8002 0 61201 100001 \n",
            "localhost:8002 1 61201 100001 \n",
            "localhost:8000 1 31093 66809 localhost:8002\n",
            "localhost:8000 2 31093 66809 localhost:8002\n",
            "localhost:8002 1 31093 100001 \n",
            "localhost:8002 2 31093 100001 \n",
            "starting localhost:8002\n",
            "localhost:8001 1 66809 61201 localhost:8000\n",
            "localhost:8001 2 66809 61201 localhost:8000\n",
            "localhost:8000 executing fail safe\n",
            "localhost:8000 time to die\n",
            "localhost:8001 executing fail safe\n",
            "localhost:8001 time to die\n",
            "localhost:8002 executing fail safe\n",
            "localhost:8002 time to die\n"
          ],
          "name": "stdout"
        }
      ]
    },
    {
      "cell_type": "markdown",
      "metadata": {
        "id": "kfsgOe95tL_L",
        "colab_type": "text"
      },
      "source": [
        "0,60509 3,23100 1,69517"
      ]
    },
    {
      "cell_type": "code",
      "metadata": {
        "id": "k9woDnRYBVym",
        "colab_type": "code",
        "colab": {
          "base_uri": "https://localhost:8080/",
          "height": 171
        },
        "outputId": "96a8adcc-8a36-4c81-cbbc-e4d003cf7716"
      },
      "source": [
        "%%script bash\n",
        "#kill -9 2607\n",
        "\n",
        "ps ax"
      ],
      "execution_count": 9,
      "outputs": [
        {
          "output_type": "stream",
          "text": [
            "    PID TTY      STAT   TIME COMMAND\n",
            "      1 ?        Ss     0:00 /bin/bash -e /datalab/run.sh\n",
            "      8 ?        Sl     0:00 /tools/node/bin/node /datalab/web/app.js\n",
            "     18 ?        Sl     0:02 /usr/bin/python2 /usr/local/bin/jupyter-notebook --ip=\"172.28.0.2\" --port=9000 --FileContentsManager.root_dir=\"/\" --MappingKernelManager.root_dir=\"/content\"\n",
            "    115 ?        Ss     0:00 tail -n +0 -F /root/.config/Google/DriveFS/Logs/drive_fs.txt\n",
            "    123 ?        Ssl    0:02 /usr/bin/python3 -m ipykernel_launcher -f /root/.local/share/jupyter/runtime/kernel-fe4e5cb5-efe9-4d56-83f7-6d6dc32a22fe.json\n",
            "   1184 ?        S      0:00 bash\n",
            "   1185 ?        R      0:00 ps ax\n"
          ],
          "name": "stdout"
        }
      ]
    },
    {
      "cell_type": "code",
      "metadata": {
        "id": "XpfmIjo6-3ps",
        "colab_type": "code",
        "colab": {}
      },
      "source": [
        ""
      ],
      "execution_count": null,
      "outputs": []
    }
  ]
}