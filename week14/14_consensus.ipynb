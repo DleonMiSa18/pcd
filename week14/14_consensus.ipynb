{
  "nbformat": 4,
  "nbformat_minor": 0,
  "metadata": {
    "colab": {
      "name": "14-consensus.ipynb",
      "provenance": [],
      "collapsed_sections": [],
      "authorship_tag": "ABX9TyOlOOlXA5qo/Pcn53FGoy+s",
      "include_colab_link": true
    },
    "kernelspec": {
      "name": "python3",
      "display_name": "Python 3"
    }
  },
  "cells": [
    {
      "cell_type": "markdown",
      "metadata": {
        "id": "view-in-github",
        "colab_type": "text"
      },
      "source": [
        "<a href=\"https://colab.research.google.com/github/pcsilcan/pcd/blob/master/week14/14_consensus.ipynb\" target=\"_parent\"><img src=\"https://colab.research.google.com/assets/colab-badge.svg\" alt=\"Open In Colab\"/></a>"
      ]
    },
    {
      "cell_type": "code",
      "metadata": {
        "id": "YcDo8WOAzEuv",
        "colab_type": "code",
        "colab": {}
      },
      "source": [
        "!apt install golang-go"
      ],
      "execution_count": null,
      "outputs": []
    },
    {
      "cell_type": "code",
      "metadata": {
        "id": "d0CJkQxWe2eU",
        "colab_type": "code",
        "colab": {
          "base_uri": "https://localhost:8080/",
          "height": 34
        },
        "outputId": "1090f422-47d6-4bc5-9e34-68d1801b46b5"
      },
      "source": [
        "!go version"
      ],
      "execution_count": 2,
      "outputs": [
        {
          "output_type": "stream",
          "text": [
            "go version go1.10.4 linux/amd64\n"
          ],
          "name": "stdout"
        }
      ]
    },
    {
      "cell_type": "code",
      "metadata": {
        "id": "V18VqJYt25ks",
        "colab_type": "code",
        "colab": {
          "base_uri": "https://localhost:8080/",
          "height": 34
        },
        "outputId": "49981197-d178-4e7d-d89a-b84db4894993"
      },
      "source": [
        "%%writefile nodo.go\n",
        "package main\n",
        "\n",
        "import (\n",
        "    \"encoding/json\"\n",
        "    \"fmt\"\n",
        "    \"math/rand\"\n",
        "    \"net\"\n",
        "    \"os\"\n",
        "    \"time\"\n",
        ")\n",
        "\n",
        "type Msg struct {\n",
        "    Command     string\n",
        "    Hostname    string\n",
        "    List        []string\n",
        "}\n",
        "\n",
        "var friends         []string\n",
        "var local           string\n",
        "var end             chan bool\n",
        "\n",
        "var ready2listen    chan bool\n",
        "var decisions       map[string]string\n",
        "var cont            int\n",
        "\n",
        "func serv() {\n",
        "    // fmt.Println(\"(\", local, \")\")\n",
        "    ln, _ := net.Listen(\"tcp\", local)\n",
        "    defer ln.Close()\n",
        "    for {\n",
        "        conn, _ := ln.Accept()\n",
        "        go handle(conn)\n",
        "    }\n",
        "}\n",
        "func handle(conn net.Conn) {\n",
        "    defer conn.Close()\n",
        "    dec := json.NewDecoder(conn)\n",
        "    var msg Msg\n",
        "    if err := dec.Decode(&msg); err == nil {\n",
        "        switch msg.Command {\n",
        "        case \"hello\":\n",
        "            resp := Msg{\"hey\", local, friends}\n",
        "            enc := json.NewEncoder(conn)\n",
        "            if err := enc.Encode(&resp); err == nil {\n",
        "                for _, friend := range friends {\n",
        "                    // fmt.Println(local, friend, \"meet\", msg.Hostname)\n",
        "                    send(friend, \"meet new friend\", []string{msg.Hostname})\n",
        "                }\n",
        "            }\n",
        "            friends = append(friends, msg.Hostname)\n",
        "            // fmt.Println(local, \"updated list\", friends)\n",
        "        case \"meet new friend\":\n",
        "            friends = append(friends, msg.List...)\n",
        "            // fmt.Println(local, \"new friend\", msg.List)\n",
        "\n",
        "        case \"test consensus\":\n",
        "            if rand.Intn(100) % 2 == 0 {\n",
        "                decisions[local] = \"atacar\"\n",
        "            } else {\n",
        "                decisions[local] = \"retirada\"\n",
        "            }\n",
        "            fmt.Println(local, decisions[local])\n",
        "            cont = 0\n",
        "            for _, friend := range friends {\n",
        "                send(friend, \"decision\", []string{decisions[local]})\n",
        "            }\n",
        "            ready2listen<-true\n",
        "        case \"decision\":\n",
        "            <-ready2listen\n",
        "            decisions[msg.Hostname] = msg.List[0]\n",
        "            cont++\n",
        "            if cont == len(friends) {\n",
        "                contAtack := 0\n",
        "                contFallb := 0\n",
        "                for _, decision := range decisions {\n",
        "                    if decision == \"atacar\" {\n",
        "                        contAtack++\n",
        "                    } else {\n",
        "                        contFallb++\n",
        "                    }\n",
        "                }\n",
        "                if contAtack < contFallb {\n",
        "                    fmt.Println(local, \"RETIRADA!!\")\n",
        "                } else {\n",
        "                    fmt.Println(local, \"ATACAR!!!!\")\n",
        "                }\n",
        "                end<-true\n",
        "            } else {\n",
        "                ready2listen<-true\n",
        "            }\n",
        "\n",
        "        case \"finish\":\n",
        "            end<-true\n",
        "        }\n",
        "    }\n",
        "}\n",
        "func send(remote, command string, list []string) {\n",
        "    conn, _ := net.Dial(\"tcp\", remote)\n",
        "    defer conn.Close()\n",
        "    msg := Msg{command, local, list}\n",
        "    enc := json.NewEncoder(conn)\n",
        "    if err := enc.Encode(&msg); err == nil {\n",
        "        // fmt.Println(local, \"sent\", msg)\n",
        "        if command == \"hello\" {\n",
        "            dec := json.NewDecoder(conn)\n",
        "            var resp Msg\n",
        "            if err := dec.Decode(&resp); err == nil {\n",
        "                friends = append(friends, resp.List...)\n",
        "                // fmt.Println(local, \"recibí\", resp.List)\n",
        "            }\n",
        "        }\n",
        "    }\n",
        "}\n",
        "func main() {\n",
        "    ready2listen    = make(chan bool)\n",
        "    end             = make(chan bool)\n",
        "    local           = os.Args[1]\n",
        "    decisions       = make(map[string]string)\n",
        "\n",
        "    rand.Seed(time.Now().UTC().UnixNano())\n",
        "    go serv()\n",
        "\n",
        "    if len(os.Args) == 3 {\n",
        "        remote := os.Args[2]\n",
        "        friends = append(friends, os.Args[2])\n",
        "        send(remote, \"hello\", []string{})\n",
        "    }\n",
        "\n",
        "    <-end\n",
        "    fmt.Println(local, \"time to die\")\n",
        "    // fmt.Println(local, friends)\n",
        "}"
      ],
      "execution_count": 31,
      "outputs": [
        {
          "output_type": "stream",
          "text": [
            "Overwriting nodo.go\n"
          ],
          "name": "stdout"
        }
      ]
    },
    {
      "cell_type": "code",
      "metadata": {
        "id": "LMtRMElX85b2",
        "colab_type": "code",
        "colab": {}
      },
      "source": [
        "!go build nodo.go"
      ],
      "execution_count": 32,
      "outputs": []
    },
    {
      "cell_type": "code",
      "metadata": {
        "id": "m9UybBNa9lGM",
        "colab_type": "code",
        "colab": {
          "base_uri": "https://localhost:8080/",
          "height": 34
        },
        "outputId": "e5f077f6-33d6-4148-bf2b-537305478696"
      },
      "source": [
        "%%writefile consensus.go\n",
        "package main\n",
        "\n",
        "import (\n",
        "    \"encoding/json\"\n",
        "    \"fmt\"\n",
        "    \"net\"\n",
        "    \"os\"\n",
        ")\n",
        "\n",
        "type Msg struct {\n",
        "    Command string\n",
        "    Hostname string\n",
        "    List []string\n",
        "}\n",
        "\n",
        "func send(remote, command string, list []string) {\n",
        "    conn, _ := net.Dial(\"tcp\", remote)\n",
        "    defer conn.Close()\n",
        "    msg := Msg{command, \"\", list}\n",
        "    enc := json.NewEncoder(conn)\n",
        "    if err := enc.Encode(&msg); err == nil {\n",
        "        fmt.Println(\"sending test consensus to\", remote)\n",
        "    }\n",
        "}\n",
        "\n",
        "func main() {\n",
        "    for _, remote := range os.Args[1:] {\n",
        "        send(remote, \"test consensus\", []string{})\n",
        "    }\n",
        "}"
      ],
      "execution_count": 22,
      "outputs": [
        {
          "output_type": "stream",
          "text": [
            "Overwriting consensus.go\n"
          ],
          "name": "stdout"
        }
      ]
    },
    {
      "cell_type": "code",
      "metadata": {
        "id": "DSV5MDVQ-V4s",
        "colab_type": "code",
        "colab": {}
      },
      "source": [
        "!go build consensus.go"
      ],
      "execution_count": 23,
      "outputs": []
    },
    {
      "cell_type": "code",
      "metadata": {
        "id": "ORK-NjfG87Yy",
        "colab_type": "code",
        "colab": {
          "base_uri": "https://localhost:8080/",
          "height": 487
        },
        "outputId": "fb10c4ac-8ec1-4fbb-e5f1-0bca657bf26e"
      },
      "source": [
        "%%script bash\n",
        "\n",
        "./nodo localhost:8000 &\n",
        "sleep 1\n",
        "./nodo localhost:8001 localhost:8000 &\n",
        "sleep 1\n",
        "./nodo localhost:8002 localhost:8000 &\n",
        "sleep 1\n",
        "./nodo localhost:8003 localhost:8002 &\n",
        "sleep 1\n",
        "./nodo localhost:8004 localhost:8001 &\n",
        "sleep 1\n",
        "./nodo localhost:8005 localhost:8003 &\n",
        "sleep 1\n",
        "./nodo localhost:8006 localhost:8004 &\n",
        "sleep 1\n",
        "\n",
        "./consensus localhost:8000 \\\n",
        "            localhost:8001 \\\n",
        "            localhost:8002 \\\n",
        "            localhost:8003 \\\n",
        "            localhost:8004 \\\n",
        "            localhost:8005 \\\n",
        "            localhost:8006\n"
      ],
      "execution_count": 34,
      "outputs": [
        {
          "output_type": "stream",
          "text": [
            "sending test consensus to localhost:8000\n",
            "localhost:8000 retirada\n",
            "sending test consensus to localhost:8001\n",
            "localhost:8001 atacar\n",
            "sending test consensus to localhost:8002\n",
            "localhost:8003 retirada\n",
            "localhost:8002 atacar\n",
            "sending test consensus to localhost:8003\n",
            "sending test consensus to localhost:8004\n",
            "sending test consensus to localhost:8005\n",
            "sending test consensus to localhost:8006\n",
            "localhost:8004 atacar\n",
            "localhost:8005 atacar\n",
            "localhost:8006 retirada\n",
            "localhost:8003 ATACAR!!!!\n",
            "localhost:8003 time to die\n",
            "localhost:8005 ATACAR!!!!\n",
            "localhost:8005 time to die\n",
            "localhost:8001 ATACAR!!!!\n",
            "localhost:8001 time to die\n",
            "localhost:8002 ATACAR!!!!\n",
            "localhost:8002 time to die\n",
            "localhost:8000 ATACAR!!!!\n",
            "localhost:8000 time to die\n",
            "localhost:8004 ATACAR!!!!\n",
            "localhost:8004 time to die\n",
            "localhost:8006 ATACAR!!!!\n",
            "localhost:8006 time to die\n"
          ],
          "name": "stdout"
        }
      ]
    },
    {
      "cell_type": "code",
      "metadata": {
        "id": "k9woDnRYBVym",
        "colab_type": "code",
        "colab": {
          "base_uri": "https://localhost:8080/",
          "height": 171
        },
        "outputId": "777b7ab1-6ab9-4a01-943a-8d8b66543828"
      },
      "source": [
        "%%script bash\n",
        "#kill -9 2607\n",
        "\n",
        "ps ax"
      ],
      "execution_count": null,
      "outputs": [
        {
          "output_type": "stream",
          "text": [
            "    PID TTY      STAT   TIME COMMAND\n",
            "      1 ?        Ss     0:00 /bin/bash -e /datalab/run.sh\n",
            "      8 ?        Sl     0:01 /tools/node/bin/node /datalab/web/app.js\n",
            "     18 ?        Sl     0:02 /usr/bin/python2 /usr/local/bin/jupyter-notebook --ip=\"172.28.0.2\" --port=9000 --FileContentsManager.root_dir=\"/\" --MappingKernelManager.root_dir=\"/content\"\n",
            "    113 ?        Ss     0:00 tail -n +0 -F /root/.config/Google/DriveFS/Logs/drive_fs.txt\n",
            "    121 ?        Ssl    0:02 /usr/bin/python3 -m ipykernel_launcher -f /root/.local/share/jupyter/runtime/kernel-4a26edd2-bb76-4d94-a7a5-d57c443e75c7.json\n",
            "   1308 ?        S      0:00 bash\n",
            "   1309 ?        R      0:00 ps ax\n"
          ],
          "name": "stdout"
        }
      ]
    },
    {
      "cell_type": "code",
      "metadata": {
        "id": "XpfmIjo6-3ps",
        "colab_type": "code",
        "colab": {}
      },
      "source": [
        ""
      ],
      "execution_count": null,
      "outputs": []
    }
  ]
}